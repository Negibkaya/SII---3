{
  "nbformat": 4,
  "nbformat_minor": 0,
  "metadata": {
    "colab": {
      "provenance": [],
      "authorship_tag": "ABX9TyMf6EY8CNzyvfPBDnYxmHjJ",
      "include_colab_link": true
    },
    "kernelspec": {
      "name": "ir",
      "display_name": "R"
    },
    "language_info": {
      "name": "R"
    }
  },
  "cells": [
    {
      "cell_type": "markdown",
      "metadata": {
        "id": "view-in-github",
        "colab_type": "text"
      },
      "source": [
        "<a href=\"https://colab.research.google.com/github/Negibkaya/SII---3/blob/main/%D0%A6%D0%B8%D1%84%D1%80%D0%BE%D0%B2%D0%B0%D1%8F_%D0%BA%D0%B0%D1%84%D0%B5%D0%B4%D1%80%D0%B0(3_%D0%B7%D0%B0%D0%BD%D1%8F%D1%82%D0%B8%D0%B5).ipynb\" target=\"_parent\"><img src=\"https://colab.research.google.com/assets/colab-badge.svg\" alt=\"Open In Colab\"/></a>"
      ]
    },
    {
      "cell_type": "code",
      "execution_count": 3,
      "metadata": {
        "id": "H9bC7uGhdYJt"
      },
      "outputs": [],
      "source": [
        "library(ggplot2)\n",
        "library(tidyr)\n",
        "library(RColorBrewer)"
      ]
    },
    {
      "cell_type": "code",
      "source": [
        "dataset = read.csv('AAPL.csv')"
      ],
      "metadata": {
        "id": "DuZrARsTdn3y"
      },
      "execution_count": 4,
      "outputs": []
    },
    {
      "cell_type": "code",
      "source": [
        "str(dataset)\n",
        "head(dataset)\n",
        "any(is.na(dataset))\n",
        "summary(dataset)"
      ],
      "metadata": {
        "colab": {
          "base_uri": "https://localhost:8080/",
          "height": 894
        },
        "id": "XjUCbYxWdtkP",
        "outputId": "bb64cec9-4d1f-4815-bdfd-b1f222210ff4"
      },
      "execution_count": 5,
      "outputs": [
        {
          "output_type": "stream",
          "name": "stdout",
          "text": [
            "'data.frame':\t1258 obs. of  12 variables:\n",
            " $ date            : chr  \"2014-02-21\" \"2014-02-24\" \"2014-02-25\" \"2014-02-26\" ...\n",
            " $ open            : num  70 68.7 69.5 68.8 67.9 ...\n",
            " $ high            : num  70.2 69.6 69.5 68.9 69.4 ...\n",
            " $ low             : num  68.9 68.6 68.4 67.7 67.8 ...\n",
            " $ close           : num  69 69.3 68.6 67.9 69.3 ...\n",
            " $ volume          : int  69757247 72364950 58247350 69131286 75557321 93074653 59667923 64884834 50065519 46423111 ...\n",
            " $ unadjustedVolume: int  9965321 10337850 8321050 9875898 10793903 13296379 8523989 9269262 7152217 6631873 ...\n",
            " $ change          : num  -0.775 0.302 -0.721 -0.619 1.355 ...\n",
            " $ changePercent   : num  -1.111 0.438 -1.041 -0.902 1.995 ...\n",
            " $ vwap            : num  69.4 69.2 68.9 68.1 68.9 ...\n",
            " $ label           : chr  \"Feb 21, 14\" \"Feb 24, 14\" \"Feb 25, 14\" \"Feb 26, 14\" ...\n",
            " $ changeOverTime  : num  0 0.00438 -0.00607 -0.01504 0.00461 ...\n"
          ]
        },
        {
          "output_type": "display_data",
          "data": {
            "text/html": [
              "<table class=\"dataframe\">\n",
              "<caption>A data.frame: 6 × 12</caption>\n",
              "<thead>\n",
              "\t<tr><th></th><th scope=col>date</th><th scope=col>open</th><th scope=col>high</th><th scope=col>low</th><th scope=col>close</th><th scope=col>volume</th><th scope=col>unadjustedVolume</th><th scope=col>change</th><th scope=col>changePercent</th><th scope=col>vwap</th><th scope=col>label</th><th scope=col>changeOverTime</th></tr>\n",
              "\t<tr><th></th><th scope=col>&lt;chr&gt;</th><th scope=col>&lt;dbl&gt;</th><th scope=col>&lt;dbl&gt;</th><th scope=col>&lt;dbl&gt;</th><th scope=col>&lt;dbl&gt;</th><th scope=col>&lt;int&gt;</th><th scope=col>&lt;int&gt;</th><th scope=col>&lt;dbl&gt;</th><th scope=col>&lt;dbl&gt;</th><th scope=col>&lt;dbl&gt;</th><th scope=col>&lt;chr&gt;</th><th scope=col>&lt;dbl&gt;</th></tr>\n",
              "</thead>\n",
              "<tbody>\n",
              "\t<tr><th scope=row>1</th><td>2014-02-21</td><td>69.9727</td><td>70.2061</td><td>68.8967</td><td>68.9821</td><td>69757247</td><td> 9965321</td><td>-0.774858</td><td>-1.111</td><td>69.4256</td><td>Feb 21, 14</td><td> 0.000000000</td></tr>\n",
              "\t<tr><th scope=row>2</th><td>2014-02-24</td><td>68.7063</td><td>69.5954</td><td>68.6104</td><td>69.2841</td><td>72364950</td><td>10337850</td><td> 0.302061</td><td> 0.438</td><td>69.1567</td><td>Feb 24, 14</td><td> 0.004377947</td></tr>\n",
              "\t<tr><th scope=row>3</th><td>2014-02-25</td><td>69.5245</td><td>69.5488</td><td>68.4239</td><td>68.5631</td><td>58247350</td><td> 8321050</td><td>-0.721010</td><td>-1.041</td><td>68.9153</td><td>Feb 25, 14</td><td>-0.006074039</td></tr>\n",
              "\t<tr><th scope=row>4</th><td>2014-02-26</td><td>68.7667</td><td>68.9492</td><td>67.7147</td><td>67.9446</td><td>69131286</td><td> 9875898</td><td>-0.618575</td><td>-0.902</td><td>68.1373</td><td>Feb 26, 14</td><td>-0.015040134</td></tr>\n",
              "\t<tr><th scope=row>5</th><td>2014-02-27</td><td>67.9170</td><td>69.4457</td><td>67.7738</td><td>69.2999</td><td>75557321</td><td>10793903</td><td> 1.355300</td><td> 1.995</td><td>68.8615</td><td>Feb 27, 14</td><td> 0.004606992</td></tr>\n",
              "\t<tr><th scope=row>6</th><td>2014-02-28</td><td>69.4851</td><td>69.9671</td><td>68.5710</td><td>69.1121</td><td>93074653</td><td>13296379</td><td>-0.187807</td><td>-0.271</td><td>69.2731</td><td>Feb 28, 14</td><td> 0.001884547</td></tr>\n",
              "</tbody>\n",
              "</table>\n"
            ],
            "text/markdown": "\nA data.frame: 6 × 12\n\n| <!--/--> | date &lt;chr&gt; | open &lt;dbl&gt; | high &lt;dbl&gt; | low &lt;dbl&gt; | close &lt;dbl&gt; | volume &lt;int&gt; | unadjustedVolume &lt;int&gt; | change &lt;dbl&gt; | changePercent &lt;dbl&gt; | vwap &lt;dbl&gt; | label &lt;chr&gt; | changeOverTime &lt;dbl&gt; |\n|---|---|---|---|---|---|---|---|---|---|---|---|---|\n| 1 | 2014-02-21 | 69.9727 | 70.2061 | 68.8967 | 68.9821 | 69757247 |  9965321 | -0.774858 | -1.111 | 69.4256 | Feb 21, 14 |  0.000000000 |\n| 2 | 2014-02-24 | 68.7063 | 69.5954 | 68.6104 | 69.2841 | 72364950 | 10337850 |  0.302061 |  0.438 | 69.1567 | Feb 24, 14 |  0.004377947 |\n| 3 | 2014-02-25 | 69.5245 | 69.5488 | 68.4239 | 68.5631 | 58247350 |  8321050 | -0.721010 | -1.041 | 68.9153 | Feb 25, 14 | -0.006074039 |\n| 4 | 2014-02-26 | 68.7667 | 68.9492 | 67.7147 | 67.9446 | 69131286 |  9875898 | -0.618575 | -0.902 | 68.1373 | Feb 26, 14 | -0.015040134 |\n| 5 | 2014-02-27 | 67.9170 | 69.4457 | 67.7738 | 69.2999 | 75557321 | 10793903 |  1.355300 |  1.995 | 68.8615 | Feb 27, 14 |  0.004606992 |\n| 6 | 2014-02-28 | 69.4851 | 69.9671 | 68.5710 | 69.1121 | 93074653 | 13296379 | -0.187807 | -0.271 | 69.2731 | Feb 28, 14 |  0.001884547 |\n\n",
            "text/latex": "A data.frame: 6 × 12\n\\begin{tabular}{r|llllllllllll}\n  & date & open & high & low & close & volume & unadjustedVolume & change & changePercent & vwap & label & changeOverTime\\\\\n  & <chr> & <dbl> & <dbl> & <dbl> & <dbl> & <int> & <int> & <dbl> & <dbl> & <dbl> & <chr> & <dbl>\\\\\n\\hline\n\t1 & 2014-02-21 & 69.9727 & 70.2061 & 68.8967 & 68.9821 & 69757247 &  9965321 & -0.774858 & -1.111 & 69.4256 & Feb 21, 14 &  0.000000000\\\\\n\t2 & 2014-02-24 & 68.7063 & 69.5954 & 68.6104 & 69.2841 & 72364950 & 10337850 &  0.302061 &  0.438 & 69.1567 & Feb 24, 14 &  0.004377947\\\\\n\t3 & 2014-02-25 & 69.5245 & 69.5488 & 68.4239 & 68.5631 & 58247350 &  8321050 & -0.721010 & -1.041 & 68.9153 & Feb 25, 14 & -0.006074039\\\\\n\t4 & 2014-02-26 & 68.7667 & 68.9492 & 67.7147 & 67.9446 & 69131286 &  9875898 & -0.618575 & -0.902 & 68.1373 & Feb 26, 14 & -0.015040134\\\\\n\t5 & 2014-02-27 & 67.9170 & 69.4457 & 67.7738 & 69.2999 & 75557321 & 10793903 &  1.355300 &  1.995 & 68.8615 & Feb 27, 14 &  0.004606992\\\\\n\t6 & 2014-02-28 & 69.4851 & 69.9671 & 68.5710 & 69.1121 & 93074653 & 13296379 & -0.187807 & -0.271 & 69.2731 & Feb 28, 14 &  0.001884547\\\\\n\\end{tabular}\n",
            "text/plain": [
              "  date       open    high    low     close   volume   unadjustedVolume\n",
              "1 2014-02-21 69.9727 70.2061 68.8967 68.9821 69757247  9965321        \n",
              "2 2014-02-24 68.7063 69.5954 68.6104 69.2841 72364950 10337850        \n",
              "3 2014-02-25 69.5245 69.5488 68.4239 68.5631 58247350  8321050        \n",
              "4 2014-02-26 68.7667 68.9492 67.7147 67.9446 69131286  9875898        \n",
              "5 2014-02-27 67.9170 69.4457 67.7738 69.2999 75557321 10793903        \n",
              "6 2014-02-28 69.4851 69.9671 68.5710 69.1121 93074653 13296379        \n",
              "  change    changePercent vwap    label      changeOverTime\n",
              "1 -0.774858 -1.111        69.4256 Feb 21, 14  0.000000000  \n",
              "2  0.302061  0.438        69.1567 Feb 24, 14  0.004377947  \n",
              "3 -0.721010 -1.041        68.9153 Feb 25, 14 -0.006074039  \n",
              "4 -0.618575 -0.902        68.1373 Feb 26, 14 -0.015040134  \n",
              "5  1.355300  1.995        68.8615 Feb 27, 14  0.004606992  \n",
              "6 -0.187807 -0.271        69.2731 Feb 28, 14  0.001884547  "
            ]
          },
          "metadata": {}
        },
        {
          "output_type": "display_data",
          "data": {
            "text/html": [
              "FALSE"
            ],
            "text/markdown": "FALSE",
            "text/latex": "FALSE",
            "text/plain": [
              "[1] FALSE"
            ]
          },
          "metadata": {}
        },
        {
          "output_type": "display_data",
          "data": {
            "text/plain": [
              "     date                open             high             low        \n",
              " Length:1258        Min.   : 67.92   Min.   : 68.44   Min.   : 67.15  \n",
              " Class :character   1st Qu.:100.61   1st Qu.:101.52   1st Qu.: 99.59  \n",
              " Mode  :character   Median :115.90   Median :116.48   Median :114.75  \n",
              "                    Mean   :128.60   Mean   :129.72   Mean   :127.48  \n",
              "                    3rd Qu.:156.82   3rd Qu.:158.31   3rd Qu.:155.19  \n",
              "                    Max.   :229.00   Max.   :231.66   Max.   :228.00  \n",
              "     close            volume          unadjustedVolume        change         \n",
              " Min.   : 67.94   Min.   : 11475922   Min.   :  5704942   Min.   :-15.66280  \n",
              " 1st Qu.:100.57   1st Qu.: 26281928   1st Qu.: 24473327   1st Qu.: -0.72542  \n",
              " Median :115.85   Median : 35903155   Median : 33610520   Median :  0.06888  \n",
              " Mean   :128.63   Mean   : 41300084   Mean   : 37793995   Mean   :  0.08130  \n",
              " 3rd Qu.:156.85   3rd Qu.: 50315110   3rd Qu.: 46737829   3rd Qu.:  1.04183  \n",
              " Max.   :230.28   Max.   :189978082   Max.   :189846255   Max.   : 11.08440  \n",
              " changePercent           vwap           label           changeOverTime    \n",
              " Min.   :-9.96100   Min.   : 57.34   Length:1258        Min.   :-0.01504  \n",
              " 1st Qu.:-0.60350   1st Qu.:100.61   Class :character   1st Qu.: 0.45796  \n",
              " Median : 0.06150   Median :115.74   Mode  :character   Median : 0.67945  \n",
              " Mean   : 0.08362   Mean   :128.63                      Mean   : 0.86462  \n",
              " 3rd Qu.: 0.85725   3rd Qu.:156.55                      3rd Qu.: 1.27374  \n",
              " Max.   : 8.19800   Max.   :230.44                      Max.   : 2.33819  "
            ]
          },
          "metadata": {}
        }
      ]
    },
    {
      "cell_type": "code",
      "source": [
        "hist(dataset$open)"
      ],
      "metadata": {
        "colab": {
          "base_uri": "https://localhost:8080/",
          "height": 437
        },
        "id": "nIP743mHd4tv",
        "outputId": "020b11be-4873-46d7-d4dc-363838b6455f"
      },
      "execution_count": 7,
      "outputs": [
        {
          "output_type": "display_data",
          "data": {
            "text/plain": [
              "Plot with title “Histogram of dataset$open”"
            ],
            "image/png": "[encoded data removed]"
          },
          "metadata": {
            "image/png": {
              "width": 420,
              "height": 420
            }
          }
        }
      ]
    },
    {
      "cell_type": "code",
      "source": [
        "df0 = data.frame(dataset)\n",
        "df0 <- na.omit(df0)\n",
        "\n",
        "df = subset(df0, select = -c(date, label ))\n",
        "\n",
        "any(is.na(df))\n",
        "nrow(df)"
      ],
      "metadata": {
        "colab": {
          "base_uri": "https://localhost:8080/",
          "height": 52
        },
        "id": "Cz4njmCeeZCU",
        "outputId": "7a77890f-a446-414d-b42b-c3e9ccc70a33"
      },
      "execution_count": 10,
      "outputs": [
        {
          "output_type": "display_data",
          "data": {
            "text/html": [
              "FALSE"
            ],
            "text/markdown": "FALSE",
            "text/latex": "FALSE",
            "text/plain": [
              "[1] FALSE"
            ]
          },
          "metadata": {}
        },
        {
          "output_type": "display_data",
          "data": {
            "text/html": [
              "1258"
            ],
            "text/markdown": "1258",
            "text/latex": "1258",
            "text/plain": [
              "[1] 1258"
            ]
          },
          "metadata": {}
        }
      ]
    },
    {
      "cell_type": "code",
      "source": [
        "df_scaled <- data.frame(scale(df))\n",
        "\n",
        "head(df_scaled)\n",
        "nrow(df_scaled)"
      ],
      "metadata": {
        "colab": {
          "base_uri": "https://localhost:8080/",
          "height": 304
        },
        "id": "k-P9odSfel5g",
        "outputId": "af358707-63b3-4f71-ce7a-a48b01b18a88"
      },
      "execution_count": 11,
      "outputs": [
        {
          "output_type": "display_data",
          "data": {
            "text/html": [
              "<table class=\"dataframe\">\n",
              "<caption>A data.frame: 6 × 10</caption>\n",
              "<thead>\n",
              "\t<tr><th></th><th scope=col>open</th><th scope=col>high</th><th scope=col>low</th><th scope=col>close</th><th scope=col>volume</th><th scope=col>unadjustedVolume</th><th scope=col>change</th><th scope=col>changePercent</th><th scope=col>vwap</th><th scope=col>changeOverTime</th></tr>\n",
              "\t<tr><th></th><th scope=col>&lt;dbl&gt;</th><th scope=col>&lt;dbl&gt;</th><th scope=col>&lt;dbl&gt;</th><th scope=col>&lt;dbl&gt;</th><th scope=col>&lt;dbl&gt;</th><th scope=col>&lt;dbl&gt;</th><th scope=col>&lt;dbl&gt;</th><th scope=col>&lt;dbl&gt;</th><th scope=col>&lt;dbl&gt;</th><th scope=col>&lt;dbl&gt;</th></tr>\n",
              "</thead>\n",
              "<tbody>\n",
              "\t<tr><th scope=row>1</th><td>-1.533638</td><td>-1.542117</td><td>-1.547309</td><td>-1.560371</td><td>1.3411873</td><td>-1.374528</td><td>-0.4021244</td><td>-0.7761935</td><td>-1.548704</td><td>-1.560371</td></tr>\n",
              "\t<tr><th scope=row>2</th><td>-1.566765</td><td>-1.557943</td><td>-1.554872</td><td>-1.552470</td><td>1.4640884</td><td>-1.356128</td><td> 0.1036890</td><td> 0.2302518</td><td>-1.555738</td><td>-1.552470</td></tr>\n",
              "\t<tr><th scope=row>3</th><td>-1.545362</td><td>-1.559150</td><td>-1.559798</td><td>-1.571333</td><td>0.7987253</td><td>-1.455743</td><td>-0.3768327</td><td>-0.7307117</td><td>-1.562053</td><td>-1.571333</td></tr>\n",
              "\t<tr><th scope=row>4</th><td>-1.565185</td><td>-1.574688</td><td>-1.578531</td><td>-1.587514</td><td>1.3116857</td><td>-1.378945</td><td>-0.3287205</td><td>-0.6403981</td><td>-1.582404</td><td>-1.587514</td></tr>\n",
              "\t<tr><th scope=row>5</th><td>-1.587411</td><td>-1.561822</td><td>-1.576970</td><td>-1.552057</td><td>1.6145450</td><td>-1.333602</td><td> 0.5983803</td><td> 1.2418950</td><td>-1.563460</td><td>-1.552057</td></tr>\n",
              "\t<tr><th scope=row>6</th><td>-1.546393</td><td>-1.548311</td><td>-1.555913</td><td>-1.556970</td><td>2.4401376</td><td>-1.209999</td><td>-0.1263949</td><td>-0.2304129</td><td>-1.552693</td><td>-1.556970</td></tr>\n",
              "</tbody>\n",
              "</table>\n"
            ],
            "text/markdown": "\nA data.frame: 6 × 10\n\n| <!--/--> | open &lt;dbl&gt; | high &lt;dbl&gt; | low &lt;dbl&gt; | close &lt;dbl&gt; | volume &lt;dbl&gt; | unadjustedVolume &lt;dbl&gt; | change &lt;dbl&gt; | changePercent &lt;dbl&gt; | vwap &lt;dbl&gt; | changeOverTime &lt;dbl&gt; |\n|---|---|---|---|---|---|---|---|---|---|---|\n| 1 | -1.533638 | -1.542117 | -1.547309 | -1.560371 | 1.3411873 | -1.374528 | -0.4021244 | -0.7761935 | -1.548704 | -1.560371 |\n| 2 | -1.566765 | -1.557943 | -1.554872 | -1.552470 | 1.4640884 | -1.356128 |  0.1036890 |  0.2302518 | -1.555738 | -1.552470 |\n| 3 | -1.545362 | -1.559150 | -1.559798 | -1.571333 | 0.7987253 | -1.455743 | -0.3768327 | -0.7307117 | -1.562053 | -1.571333 |\n| 4 | -1.565185 | -1.574688 | -1.578531 | -1.587514 | 1.3116857 | -1.378945 | -0.3287205 | -0.6403981 | -1.582404 | -1.587514 |\n| 5 | -1.587411 | -1.561822 | -1.576970 | -1.552057 | 1.6145450 | -1.333602 |  0.5983803 |  1.2418950 | -1.563460 | -1.552057 |\n| 6 | -1.546393 | -1.548311 | -1.555913 | -1.556970 | 2.4401376 | -1.209999 | -0.1263949 | -0.2304129 | -1.552693 | -1.556970 |\n\n",
            "text/latex": "A data.frame: 6 × 10\n\\begin{tabular}{r|llllllllll}\n  & open & high & low & close & volume & unadjustedVolume & change & changePercent & vwap & changeOverTime\\\\\n  & <dbl> & <dbl> & <dbl> & <dbl> & <dbl> & <dbl> & <dbl> & <dbl> & <dbl> & <dbl>\\\\\n\\hline\n\t1 & -1.533638 & -1.542117 & -1.547309 & -1.560371 & 1.3411873 & -1.374528 & -0.4021244 & -0.7761935 & -1.548704 & -1.560371\\\\\n\t2 & -1.566765 & -1.557943 & -1.554872 & -1.552470 & 1.4640884 & -1.356128 &  0.1036890 &  0.2302518 & -1.555738 & -1.552470\\\\\n\t3 & -1.545362 & -1.559150 & -1.559798 & -1.571333 & 0.7987253 & -1.455743 & -0.3768327 & -0.7307117 & -1.562053 & -1.571333\\\\\n\t4 & -1.565185 & -1.574688 & -1.578531 & -1.587514 & 1.3116857 & -1.378945 & -0.3287205 & -0.6403981 & -1.582404 & -1.587514\\\\\n\t5 & -1.587411 & -1.561822 & -1.576970 & -1.552057 & 1.6145450 & -1.333602 &  0.5983803 &  1.2418950 & -1.563460 & -1.552057\\\\\n\t6 & -1.546393 & -1.548311 & -1.555913 & -1.556970 & 2.4401376 & -1.209999 & -0.1263949 & -0.2304129 & -1.552693 & -1.556970\\\\\n\\end{tabular}\n",
            "text/plain": [
              "  open      high      low       close     volume    unadjustedVolume change    \n",
              "1 -1.533638 -1.542117 -1.547309 -1.560371 1.3411873 -1.374528        -0.4021244\n",
              "2 -1.566765 -1.557943 -1.554872 -1.552470 1.4640884 -1.356128         0.1036890\n",
              "3 -1.545362 -1.559150 -1.559798 -1.571333 0.7987253 -1.455743        -0.3768327\n",
              "4 -1.565185 -1.574688 -1.578531 -1.587514 1.3116857 -1.378945        -0.3287205\n",
              "5 -1.587411 -1.561822 -1.576970 -1.552057 1.6145450 -1.333602         0.5983803\n",
              "6 -1.546393 -1.548311 -1.555913 -1.556970 2.4401376 -1.209999        -0.1263949\n",
              "  changePercent vwap      changeOverTime\n",
              "1 -0.7761935    -1.548704 -1.560371     \n",
              "2  0.2302518    -1.555738 -1.552470     \n",
              "3 -0.7307117    -1.562053 -1.571333     \n",
              "4 -0.6403981    -1.582404 -1.587514     \n",
              "5  1.2418950    -1.563460 -1.552057     \n",
              "6 -0.2304129    -1.552693 -1.556970     "
            ]
          },
          "metadata": {}
        },
        {
          "output_type": "display_data",
          "data": {
            "text/html": [
              "1258"
            ],
            "text/markdown": "1258",
            "text/latex": "1258",
            "text/plain": [
              "[1] 1258"
            ]
          },
          "metadata": {}
        }
      ]
    },
    {
      "cell_type": "code",
      "source": [
        "set.seed(42)\n",
        "\n",
        "# функция запускает алгоритм k-mean и сохраняет сумму квадратов расстояния в кластерах\n",
        "kmean_withinss <- function(dataset, k) {\n",
        "    cluster <- kmeans(dataset, k)\n",
        "    return (cluster$tot.withinss)\n",
        "}\n",
        "\n",
        "# Set maximum cluster \n",
        "max_k <- 10 \n",
        "# Run algorithm over a range of k \n",
        "wss <- sapply(2:max_k, kmean_withinss, dataset = df_scaled)\n",
        "\n",
        "# Create a data frame to plot the graph\n",
        "elbow <-data.frame(2:max_k, wss)\n",
        "\n",
        "# Plot the graph with gglop\n",
        "ggplot(elbow, aes(x = X2.max_k, y = wss)) +\n",
        "    geom_point() +\n",
        "    geom_line() +\n",
        "    scale_x_continuous(breaks = seq(1, max_k, by = 1))"
      ],
      "metadata": {
        "colab": {
          "base_uri": "https://localhost:8080/",
          "height": 437
        },
        "id": "T5S6lMlXe1Q3",
        "outputId": "a04e2ac5-3a0e-4f9d-f185-5c08cf2b099d"
      },
      "execution_count": 12,
      "outputs": [
        {
          "output_type": "display_data",
          "data": {
            "text/plain": [
              "plot without title"
            ],
            "image/png": "[encoded data removed]"
          },
          "metadata": {
            "image/png": {
              "width": 420,
              "height": 420
            }
          }
        }
      ]
    },
    {
      "cell_type": "code",
      "source": [
        "optimal_k <- 3\n",
        "\n",
        "# create clustering model\n",
        "clust <- kmeans(df_scaled, optimal_k)"
      ],
      "metadata": {
        "id": "-B9u9AVUe57M"
      },
      "execution_count": 13,
      "outputs": []
    },
    {
      "cell_type": "code",
      "source": [
        "# информация о кластерах\n",
        "# clust$cluster\n",
        "clust$centers\n",
        "clust$size"
      ],
      "metadata": {
        "colab": {
          "base_uri": "https://localhost:8080/",
          "height": 178
        },
        "id": "heR5RGS5e9BG",
        "outputId": "f34c9303-c298-41ac-aff9-84fe541a6d3c"
      },
      "execution_count": 14,
      "outputs": [
        {
          "output_type": "display_data",
          "data": {
            "text/html": [
              "<table class=\"dataframe\">\n",
              "<caption>A matrix: 3 × 10 of type dbl</caption>\n",
              "<thead>\n",
              "\t<tr><th></th><th scope=col>open</th><th scope=col>high</th><th scope=col>low</th><th scope=col>close</th><th scope=col>volume</th><th scope=col>unadjustedVolume</th><th scope=col>change</th><th scope=col>changePercent</th><th scope=col>vwap</th><th scope=col>changeOverTime</th></tr>\n",
              "</thead>\n",
              "<tbody>\n",
              "\t<tr><th scope=row>1</th><td>-0.6147555</td><td>-0.6095847</td><td>-0.6427982</td><td>-0.6373815</td><td> 1.75976151</td><td> 1.8433576</td><td>-0.54315033</td><td>-0.63672203</td><td>-0.6278582</td><td>-0.6373815</td></tr>\n",
              "\t<tr><th scope=row>2</th><td>-0.7094876</td><td>-0.7101229</td><td>-0.7041862</td><td>-0.7050049</td><td>-0.01446453</td><td>-0.1510331</td><td> 0.10012281</td><td> 0.13465232</td><td>-0.7068611</td><td>-0.7050049</td></tr>\n",
              "\t<tr><th scope=row>3</th><td> 1.0905541</td><td> 1.0897837</td><td> 1.0923699</td><td> 1.0917580</td><td>-0.51889753</td><td>-0.3706326</td><td> 0.03842856</td><td> 0.02305838</td><td> 1.0912123</td><td> 1.0917580</td></tr>\n",
              "</tbody>\n",
              "</table>\n"
            ],
            "text/markdown": "\nA matrix: 3 × 10 of type dbl\n\n| <!--/--> | open | high | low | close | volume | unadjustedVolume | change | changePercent | vwap | changeOverTime |\n|---|---|---|---|---|---|---|---|---|---|---|\n| 1 | -0.6147555 | -0.6095847 | -0.6427982 | -0.6373815 |  1.75976151 |  1.8433576 | -0.54315033 | -0.63672203 | -0.6278582 | -0.6373815 |\n| 2 | -0.7094876 | -0.7101229 | -0.7041862 | -0.7050049 | -0.01446453 | -0.1510331 |  0.10012281 |  0.13465232 | -0.7068611 | -0.7050049 |\n| 3 |  1.0905541 |  1.0897837 |  1.0923699 |  1.0917580 | -0.51889753 | -0.3706326 |  0.03842856 |  0.02305838 |  1.0912123 |  1.0917580 |\n\n",
            "text/latex": "A matrix: 3 × 10 of type dbl\n\\begin{tabular}{r|llllllllll}\n  & open & high & low & close & volume & unadjustedVolume & change & changePercent & vwap & changeOverTime\\\\\n\\hline\n\t1 & -0.6147555 & -0.6095847 & -0.6427982 & -0.6373815 &  1.75976151 &  1.8433576 & -0.54315033 & -0.63672203 & -0.6278582 & -0.6373815\\\\\n\t2 & -0.7094876 & -0.7101229 & -0.7041862 & -0.7050049 & -0.01446453 & -0.1510331 &  0.10012281 &  0.13465232 & -0.7068611 & -0.7050049\\\\\n\t3 &  1.0905541 &  1.0897837 &  1.0923699 &  1.0917580 & -0.51889753 & -0.3706326 &  0.03842856 &  0.02305838 &  1.0912123 &  1.0917580\\\\\n\\end{tabular}\n",
            "text/plain": [
              "  open       high       low        close      volume      unadjustedVolume\n",
              "1 -0.6147555 -0.6095847 -0.6427982 -0.6373815  1.75976151  1.8433576      \n",
              "2 -0.7094876 -0.7101229 -0.7041862 -0.7050049 -0.01446453 -0.1510331      \n",
              "3  1.0905541  1.0897837  1.0923699  1.0917580 -0.51889753 -0.3706326      \n",
              "  change      changePercent vwap       changeOverTime\n",
              "1 -0.54315033 -0.63672203   -0.6278582 -0.6373815    \n",
              "2  0.10012281  0.13465232   -0.7068611 -0.7050049    \n",
              "3  0.03842856  0.02305838    1.0912123  1.0917580    "
            ]
          },
          "metadata": {}
        },
        {
          "output_type": "display_data",
          "data": {
            "text/html": [
              "<style>\n",
              ".list-inline {list-style: none; margin:0; padding: 0}\n",
              ".list-inline>li {display: inline-block}\n",
              ".list-inline>li:not(:last-child)::after {content: \"\\00b7\"; padding: 0 .5ex}\n",
              "</style>\n",
              "<ol class=list-inline><li>149</li><li>621</li><li>488</li></ol>\n"
            ],
            "text/markdown": "1. 149\n2. 621\n3. 488\n\n\n",
            "text/latex": "\\begin{enumerate*}\n\\item 149\n\\item 621\n\\item 488\n\\end{enumerate*}\n",
            "text/plain": [
              "[1] 149 621 488"
            ]
          },
          "metadata": {}
        }
      ]
    },
    {
      "cell_type": "code",
      "source": [
        "# присвоим метки кластеров исходному набору данных\n",
        "df$Cluster <- clust$cluster\n",
        "df$Cluster.Label <- as.character(clust$cluster)\n",
        "\n",
        "df_scaled$Cluster <- clust$cluster\n",
        "df_scaled$Cluster.Label <- as.character(clust$cluster)\n",
        "\n",
        "head(df)"
      ],
      "metadata": {
        "colab": {
          "base_uri": "https://localhost:8080/",
          "height": 286
        },
        "id": "AmzrqeSafB4I",
        "outputId": "33c289e7-0bba-46f1-9858-3830e91e4a7a"
      },
      "execution_count": 15,
      "outputs": [
        {
          "output_type": "display_data",
          "data": {
            "text/html": [
              "<table class=\"dataframe\">\n",
              "<caption>A data.frame: 6 × 12</caption>\n",
              "<thead>\n",
              "\t<tr><th></th><th scope=col>open</th><th scope=col>high</th><th scope=col>low</th><th scope=col>close</th><th scope=col>volume</th><th scope=col>unadjustedVolume</th><th scope=col>change</th><th scope=col>changePercent</th><th scope=col>vwap</th><th scope=col>changeOverTime</th><th scope=col>Cluster</th><th scope=col>Cluster.Label</th></tr>\n",
              "\t<tr><th></th><th scope=col>&lt;dbl&gt;</th><th scope=col>&lt;dbl&gt;</th><th scope=col>&lt;dbl&gt;</th><th scope=col>&lt;dbl&gt;</th><th scope=col>&lt;int&gt;</th><th scope=col>&lt;int&gt;</th><th scope=col>&lt;dbl&gt;</th><th scope=col>&lt;dbl&gt;</th><th scope=col>&lt;dbl&gt;</th><th scope=col>&lt;dbl&gt;</th><th scope=col>&lt;int&gt;</th><th scope=col>&lt;chr&gt;</th></tr>\n",
              "</thead>\n",
              "<tbody>\n",
              "\t<tr><th scope=row>1</th><td>69.9727</td><td>70.2061</td><td>68.8967</td><td>68.9821</td><td>69757247</td><td> 9965321</td><td>-0.774858</td><td>-1.111</td><td>69.4256</td><td> 0.000000000</td><td>2</td><td>2</td></tr>\n",
              "\t<tr><th scope=row>2</th><td>68.7063</td><td>69.5954</td><td>68.6104</td><td>69.2841</td><td>72364950</td><td>10337850</td><td> 0.302061</td><td> 0.438</td><td>69.1567</td><td> 0.004377947</td><td>2</td><td>2</td></tr>\n",
              "\t<tr><th scope=row>3</th><td>69.5245</td><td>69.5488</td><td>68.4239</td><td>68.5631</td><td>58247350</td><td> 8321050</td><td>-0.721010</td><td>-1.041</td><td>68.9153</td><td>-0.006074039</td><td>2</td><td>2</td></tr>\n",
              "\t<tr><th scope=row>4</th><td>68.7667</td><td>68.9492</td><td>67.7147</td><td>67.9446</td><td>69131286</td><td> 9875898</td><td>-0.618575</td><td>-0.902</td><td>68.1373</td><td>-0.015040134</td><td>2</td><td>2</td></tr>\n",
              "\t<tr><th scope=row>5</th><td>67.9170</td><td>69.4457</td><td>67.7738</td><td>69.2999</td><td>75557321</td><td>10793903</td><td> 1.355300</td><td> 1.995</td><td>68.8615</td><td> 0.004606992</td><td>2</td><td>2</td></tr>\n",
              "\t<tr><th scope=row>6</th><td>69.4851</td><td>69.9671</td><td>68.5710</td><td>69.1121</td><td>93074653</td><td>13296379</td><td>-0.187807</td><td>-0.271</td><td>69.2731</td><td> 0.001884547</td><td>2</td><td>2</td></tr>\n",
              "</tbody>\n",
              "</table>\n"
            ],
            "text/markdown": "\nA data.frame: 6 × 12\n\n| <!--/--> | open &lt;dbl&gt; | high &lt;dbl&gt; | low &lt;dbl&gt; | close &lt;dbl&gt; | volume &lt;int&gt; | unadjustedVolume &lt;int&gt; | change &lt;dbl&gt; | changePercent &lt;dbl&gt; | vwap &lt;dbl&gt; | changeOverTime &lt;dbl&gt; | Cluster &lt;int&gt; | Cluster.Label &lt;chr&gt; |\n|---|---|---|---|---|---|---|---|---|---|---|---|---|\n| 1 | 69.9727 | 70.2061 | 68.8967 | 68.9821 | 69757247 |  9965321 | -0.774858 | -1.111 | 69.4256 |  0.000000000 | 2 | 2 |\n| 2 | 68.7063 | 69.5954 | 68.6104 | 69.2841 | 72364950 | 10337850 |  0.302061 |  0.438 | 69.1567 |  0.004377947 | 2 | 2 |\n| 3 | 69.5245 | 69.5488 | 68.4239 | 68.5631 | 58247350 |  8321050 | -0.721010 | -1.041 | 68.9153 | -0.006074039 | 2 | 2 |\n| 4 | 68.7667 | 68.9492 | 67.7147 | 67.9446 | 69131286 |  9875898 | -0.618575 | -0.902 | 68.1373 | -0.015040134 | 2 | 2 |\n| 5 | 67.9170 | 69.4457 | 67.7738 | 69.2999 | 75557321 | 10793903 |  1.355300 |  1.995 | 68.8615 |  0.004606992 | 2 | 2 |\n| 6 | 69.4851 | 69.9671 | 68.5710 | 69.1121 | 93074653 | 13296379 | -0.187807 | -0.271 | 69.2731 |  0.001884547 | 2 | 2 |\n\n",
            "text/latex": "A data.frame: 6 × 12\n\\begin{tabular}{r|llllllllllll}\n  & open & high & low & close & volume & unadjustedVolume & change & changePercent & vwap & changeOverTime & Cluster & Cluster.Label\\\\\n  & <dbl> & <dbl> & <dbl> & <dbl> & <int> & <int> & <dbl> & <dbl> & <dbl> & <dbl> & <int> & <chr>\\\\\n\\hline\n\t1 & 69.9727 & 70.2061 & 68.8967 & 68.9821 & 69757247 &  9965321 & -0.774858 & -1.111 & 69.4256 &  0.000000000 & 2 & 2\\\\\n\t2 & 68.7063 & 69.5954 & 68.6104 & 69.2841 & 72364950 & 10337850 &  0.302061 &  0.438 & 69.1567 &  0.004377947 & 2 & 2\\\\\n\t3 & 69.5245 & 69.5488 & 68.4239 & 68.5631 & 58247350 &  8321050 & -0.721010 & -1.041 & 68.9153 & -0.006074039 & 2 & 2\\\\\n\t4 & 68.7667 & 68.9492 & 67.7147 & 67.9446 & 69131286 &  9875898 & -0.618575 & -0.902 & 68.1373 & -0.015040134 & 2 & 2\\\\\n\t5 & 67.9170 & 69.4457 & 67.7738 & 69.2999 & 75557321 & 10793903 &  1.355300 &  1.995 & 68.8615 &  0.004606992 & 2 & 2\\\\\n\t6 & 69.4851 & 69.9671 & 68.5710 & 69.1121 & 93074653 & 13296379 & -0.187807 & -0.271 & 69.2731 &  0.001884547 & 2 & 2\\\\\n\\end{tabular}\n",
            "text/plain": [
              "  open    high    low     close   volume   unadjustedVolume change   \n",
              "1 69.9727 70.2061 68.8967 68.9821 69757247  9965321         -0.774858\n",
              "2 68.7063 69.5954 68.6104 69.2841 72364950 10337850          0.302061\n",
              "3 69.5245 69.5488 68.4239 68.5631 58247350  8321050         -0.721010\n",
              "4 68.7667 68.9492 67.7147 67.9446 69131286  9875898         -0.618575\n",
              "5 67.9170 69.4457 67.7738 69.2999 75557321 10793903          1.355300\n",
              "6 69.4851 69.9671 68.5710 69.1121 93074653 13296379         -0.187807\n",
              "  changePercent vwap    changeOverTime Cluster Cluster.Label\n",
              "1 -1.111        69.4256  0.000000000   2       2            \n",
              "2  0.438        69.1567  0.004377947   2       2            \n",
              "3 -1.041        68.9153 -0.006074039   2       2            \n",
              "4 -0.902        68.1373 -0.015040134   2       2            \n",
              "5  1.995        68.8615  0.004606992   2       2            \n",
              "6 -0.271        69.2731  0.001884547   2       2            "
            ]
          },
          "metadata": {}
        }
      ]
    },
    {
      "cell_type": "code",
      "source": [
        "# Make plots wider \n",
        "options(repr.plot.width=15, repr.plot.height=8)"
      ],
      "metadata": {
        "id": "PNLau_gRfFk0"
      },
      "execution_count": 16,
      "outputs": []
    },
    {
      "cell_type": "code",
      "source": [
        "# Построим тепловую карту\n",
        "center <- clust$centers\n",
        "\n",
        "# Create dataset with the cluster number\n",
        "cluster <- c(1:nrow(center))\n",
        "center_df <- data.frame(cluster, center)\n",
        "\n",
        "# Reshape the data\n",
        "center_reshape <- gather(center_df, features, values, open:close)\n",
        "head(center_reshape)"
      ],
      "metadata": {
        "colab": {
          "base_uri": "https://localhost:8080/",
          "height": 286
        },
        "id": "4uja8b06fH8E",
        "outputId": "b94d832a-557c-478a-a529-ca32c3d81264"
      },
      "execution_count": 19,
      "outputs": [
        {
          "output_type": "display_data",
          "data": {
            "text/html": [
              "<table class=\"dataframe\">\n",
              "<caption>A data.frame: 6 × 9</caption>\n",
              "<thead>\n",
              "\t<tr><th></th><th scope=col>cluster</th><th scope=col>volume</th><th scope=col>unadjustedVolume</th><th scope=col>change</th><th scope=col>changePercent</th><th scope=col>vwap</th><th scope=col>changeOverTime</th><th scope=col>features</th><th scope=col>values</th></tr>\n",
              "\t<tr><th></th><th scope=col>&lt;int&gt;</th><th scope=col>&lt;dbl&gt;</th><th scope=col>&lt;dbl&gt;</th><th scope=col>&lt;dbl&gt;</th><th scope=col>&lt;dbl&gt;</th><th scope=col>&lt;dbl&gt;</th><th scope=col>&lt;dbl&gt;</th><th scope=col>&lt;chr&gt;</th><th scope=col>&lt;dbl&gt;</th></tr>\n",
              "</thead>\n",
              "<tbody>\n",
              "\t<tr><th scope=row>1</th><td>1</td><td> 1.75976151</td><td> 1.8433576</td><td>-0.54315033</td><td>-0.63672203</td><td>-0.6278582</td><td>-0.6373815</td><td>open</td><td>-0.6147555</td></tr>\n",
              "\t<tr><th scope=row>2</th><td>2</td><td>-0.01446453</td><td>-0.1510331</td><td> 0.10012281</td><td> 0.13465232</td><td>-0.7068611</td><td>-0.7050049</td><td>open</td><td>-0.7094876</td></tr>\n",
              "\t<tr><th scope=row>3</th><td>3</td><td>-0.51889753</td><td>-0.3706326</td><td> 0.03842856</td><td> 0.02305838</td><td> 1.0912123</td><td> 1.0917580</td><td>open</td><td> 1.0905541</td></tr>\n",
              "\t<tr><th scope=row>4</th><td>1</td><td> 1.75976151</td><td> 1.8433576</td><td>-0.54315033</td><td>-0.63672203</td><td>-0.6278582</td><td>-0.6373815</td><td>high</td><td>-0.6095847</td></tr>\n",
              "\t<tr><th scope=row>5</th><td>2</td><td>-0.01446453</td><td>-0.1510331</td><td> 0.10012281</td><td> 0.13465232</td><td>-0.7068611</td><td>-0.7050049</td><td>high</td><td>-0.7101229</td></tr>\n",
              "\t<tr><th scope=row>6</th><td>3</td><td>-0.51889753</td><td>-0.3706326</td><td> 0.03842856</td><td> 0.02305838</td><td> 1.0912123</td><td> 1.0917580</td><td>high</td><td> 1.0897837</td></tr>\n",
              "</tbody>\n",
              "</table>\n"
            ],
            "text/markdown": "\nA data.frame: 6 × 9\n\n| <!--/--> | cluster &lt;int&gt; | volume &lt;dbl&gt; | unadjustedVolume &lt;dbl&gt; | change &lt;dbl&gt; | changePercent &lt;dbl&gt; | vwap &lt;dbl&gt; | changeOverTime &lt;dbl&gt; | features &lt;chr&gt; | values &lt;dbl&gt; |\n|---|---|---|---|---|---|---|---|---|---|\n| 1 | 1 |  1.75976151 |  1.8433576 | -0.54315033 | -0.63672203 | -0.6278582 | -0.6373815 | open | -0.6147555 |\n| 2 | 2 | -0.01446453 | -0.1510331 |  0.10012281 |  0.13465232 | -0.7068611 | -0.7050049 | open | -0.7094876 |\n| 3 | 3 | -0.51889753 | -0.3706326 |  0.03842856 |  0.02305838 |  1.0912123 |  1.0917580 | open |  1.0905541 |\n| 4 | 1 |  1.75976151 |  1.8433576 | -0.54315033 | -0.63672203 | -0.6278582 | -0.6373815 | high | -0.6095847 |\n| 5 | 2 | -0.01446453 | -0.1510331 |  0.10012281 |  0.13465232 | -0.7068611 | -0.7050049 | high | -0.7101229 |\n| 6 | 3 | -0.51889753 | -0.3706326 |  0.03842856 |  0.02305838 |  1.0912123 |  1.0917580 | high |  1.0897837 |\n\n",
            "text/latex": "A data.frame: 6 × 9\n\\begin{tabular}{r|lllllllll}\n  & cluster & volume & unadjustedVolume & change & changePercent & vwap & changeOverTime & features & values\\\\\n  & <int> & <dbl> & <dbl> & <dbl> & <dbl> & <dbl> & <dbl> & <chr> & <dbl>\\\\\n\\hline\n\t1 & 1 &  1.75976151 &  1.8433576 & -0.54315033 & -0.63672203 & -0.6278582 & -0.6373815 & open & -0.6147555\\\\\n\t2 & 2 & -0.01446453 & -0.1510331 &  0.10012281 &  0.13465232 & -0.7068611 & -0.7050049 & open & -0.7094876\\\\\n\t3 & 3 & -0.51889753 & -0.3706326 &  0.03842856 &  0.02305838 &  1.0912123 &  1.0917580 & open &  1.0905541\\\\\n\t4 & 1 &  1.75976151 &  1.8433576 & -0.54315033 & -0.63672203 & -0.6278582 & -0.6373815 & high & -0.6095847\\\\\n\t5 & 2 & -0.01446453 & -0.1510331 &  0.10012281 &  0.13465232 & -0.7068611 & -0.7050049 & high & -0.7101229\\\\\n\t6 & 3 & -0.51889753 & -0.3706326 &  0.03842856 &  0.02305838 &  1.0912123 &  1.0917580 & high &  1.0897837\\\\\n\\end{tabular}\n",
            "text/plain": [
              "  cluster volume      unadjustedVolume change      changePercent vwap      \n",
              "1 1        1.75976151  1.8433576       -0.54315033 -0.63672203   -0.6278582\n",
              "2 2       -0.01446453 -0.1510331        0.10012281  0.13465232   -0.7068611\n",
              "3 3       -0.51889753 -0.3706326        0.03842856  0.02305838    1.0912123\n",
              "4 1        1.75976151  1.8433576       -0.54315033 -0.63672203   -0.6278582\n",
              "5 2       -0.01446453 -0.1510331        0.10012281  0.13465232   -0.7068611\n",
              "6 3       -0.51889753 -0.3706326        0.03842856  0.02305838    1.0912123\n",
              "  changeOverTime features values    \n",
              "1 -0.6373815     open     -0.6147555\n",
              "2 -0.7050049     open     -0.7094876\n",
              "3  1.0917580     open      1.0905541\n",
              "4 -0.6373815     high     -0.6095847\n",
              "5 -0.7050049     high     -0.7101229\n",
              "6  1.0917580     high      1.0897837"
            ]
          },
          "metadata": {}
        }
      ]
    },
    {
      "cell_type": "code",
      "source": [
        "# Create the palette\n",
        "hm.palette <-colorRampPalette(rev(brewer.pal(10, 'RdYlGn')), space='Lab')\n",
        "\n",
        "# Plot the heat map\n",
        "ggplot(data = center_reshape, aes(x = features, y = cluster, fill = values)) +\n",
        "    scale_y_continuous(breaks = seq(1, 8, by = 1)) +\n",
        "    geom_tile() +\n",
        "    coord_equal() +\n",
        "    scale_fill_gradientn(colours = hm.palette(50)) +\n",
        "    theme(aspect.ratio = 0.85)"
      ],
      "metadata": {
        "colab": {
          "base_uri": "https://localhost:8080/",
          "height": 497
        },
        "id": "d0fCh6g6fjmt",
        "outputId": "e3efbba9-87a1-4d5c-d0f9-ec6cdb3765ca"
      },
      "execution_count": 20,
      "outputs": [
        {
          "output_type": "display_data",
          "data": {
            "text/plain": [
              "plot without title"
            ],
            "image/png": "[encoded data removed]"
          },
          "metadata": {
            "image/png": {
              "width": 900,
              "height": 480
            }
          }
        }
      ]
    },
    {
      "cell_type": "code",
      "source": [
        "# визуализация данных в разрезе возраста и дохода покупателя с центрами кластеров\n",
        "ggplot() +\n",
        "  geom_point(data = df_scaled, mapping = aes(x = low  , y = high, colour = Cluster.Label)) +\n",
        "    geom_point(mapping = aes_string(x = clust$centers[, \"low\"], \n",
        "                                  y = clust$centers[, \"high\"]),\n",
        "                                  color = \"red\", size = 4)"
      ],
      "metadata": {
        "colab": {
          "base_uri": "https://localhost:8080/",
          "height": 497
        },
        "id": "whhNCyJhfp1b",
        "outputId": "bbd959e3-0fdd-4bf4-fca6-346bc25ad758"
      },
      "execution_count": 23,
      "outputs": [
        {
          "output_type": "display_data",
          "data": {
            "text/plain": [
              "plot without title"
            ],
            "image/png": "[encoded data removed]"
          },
          "metadata": {
            "image/png": {
              "width": 900,
              "height": 480
            }
          }
        }
      ]
    },
    {
      "cell_type": "code",
      "source": [
        "install.packages(\"naivebayes\")\n",
        "install.packages(\"psych\")\n",
        "\n",
        "library(naivebayes)\n",
        "library(dplyr)\n",
        "library(ggplot2)\n",
        "library(psych)"
      ],
      "metadata": {
        "colab": {
          "base_uri": "https://localhost:8080/"
        },
        "id": "aadPOiB8h4jy",
        "outputId": "2c1d8cc8-e1c8-4ed5-9706-ef5afcc33fcc"
      },
      "execution_count": 24,
      "outputs": [
        {
          "output_type": "stream",
          "name": "stderr",
          "text": [
            "Installing package into ‘/usr/local/lib/R/site-library’\n",
            "(as ‘lib’ is unspecified)\n",
            "\n",
            "Installing package into ‘/usr/local/lib/R/site-library’\n",
            "(as ‘lib’ is unspecified)\n",
            "\n",
            "also installing the dependency ‘mnormt’\n",
            "\n",
            "\n",
            "naivebayes 0.9.7 loaded\n",
            "\n",
            "\n",
            "Attaching package: ‘dplyr’\n",
            "\n",
            "\n",
            "The following objects are masked from ‘package:stats’:\n",
            "\n",
            "    filter, lag\n",
            "\n",
            "\n",
            "The following objects are masked from ‘package:base’:\n",
            "\n",
            "    intersect, setdiff, setequal, union\n",
            "\n",
            "\n",
            "\n",
            "Attaching package: ‘psych’\n",
            "\n",
            "\n",
            "The following objects are masked from ‘package:ggplot2’:\n",
            "\n",
            "    %+%, alpha\n",
            "\n",
            "\n"
          ]
        }
      ]
    },
    {
      "cell_type": "code",
      "source": [
        "# считываем датасет\n",
        "getwd()\n",
        "data <- read.csv('Surgical-deepnet.csv')"
      ],
      "metadata": {
        "colab": {
          "base_uri": "https://localhost:8080/",
          "height": 34
        },
        "id": "wWCq6ioxiG7l",
        "outputId": "8af0524c-4d21-4ba5-99a1-e21d7a8a6ba0"
      },
      "execution_count": 26,
      "outputs": [
        {
          "output_type": "display_data",
          "data": {
            "text/html": [
              "'/content'"
            ],
            "text/markdown": "'/content'",
            "text/latex": "'/content'",
            "text/plain": [
              "[1] \"/content\""
            ]
          },
          "metadata": {}
        }
      ]
    },
    {
      "cell_type": "code",
      "source": [
        "# содержимое данных\n",
        "str(data)\n",
        "summary(data)"
      ],
      "metadata": {
        "colab": {
          "base_uri": "https://localhost:8080/",
          "height": 1000
        },
        "id": "Tsyspgk1iQMT",
        "outputId": "7601d759-7df9-4996-8d8b-6fef4801588a"
      },
      "execution_count": 27,
      "outputs": [
        {
          "output_type": "stream",
          "name": "stdout",
          "text": [
            "'data.frame':\t14635 obs. of  25 variables:\n",
            " $ bmi                : num  19.3 18.7 21.9 18.5 19.7 ...\n",
            " $ Age                : num  59.2 59.1 59 59 59 59 59 58.9 58.9 58.9 ...\n",
            " $ asa_status         : int  1 0 0 1 1 0 0 0 1 1 ...\n",
            " $ baseline_cancer    : int  1 0 0 0 0 1 1 0 0 1 ...\n",
            " $ baseline_charlson  : int  0 0 0 1 0 0 0 0 0 6 ...\n",
            " $ baseline_cvd       : int  0 0 0 0 0 0 0 0 0 0 ...\n",
            " $ baseline_dementia  : int  0 0 0 0 0 0 0 0 0 0 ...\n",
            " $ baseline_diabetes  : int  0 0 0 1 0 0 0 0 0 0 ...\n",
            " $ baseline_digestive : int  0 0 0 1 0 0 0 0 0 1 ...\n",
            " $ baseline_osteoart  : int  0 0 0 0 0 0 0 0 0 0 ...\n",
            " $ baseline_psych     : int  0 0 0 0 0 1 0 0 0 0 ...\n",
            " $ baseline_pulmonary : int  0 0 0 0 0 0 0 0 0 0 ...\n",
            " $ ahrq_ccs           : int  19 1 6 7 11 14 14 1 1 18 ...\n",
            " $ ccsComplicationRate: num  0.1834 0.312 0.1507 0.0562 0.1973 ...\n",
            " $ ccsMort30Rate      : num  0.00742 0.01667 0.00196 0 0.00276 ...\n",
            " $ complication_rsi   : num  -0.57 0.21 0 -0.65 0 0 0 -0.38 0 1.87 ...\n",
            " $ dow                : int  3 0 2 2 0 1 0 4 4 4 ...\n",
            " $ gender             : int  0 0 0 1 0 0 0 0 0 1 ...\n",
            " $ hour               : num  7.63 12.93 7.68 7.58 7.88 ...\n",
            " $ month              : int  6 0 5 4 11 0 10 6 10 5 ...\n",
            " $ moonphase          : int  1 1 3 3 0 3 3 1 0 1 ...\n",
            " $ mort30             : int  0 0 0 0 0 0 0 0 0 0 ...\n",
            " $ mortality_rsi      : num  -0.43 -0.41 0.08 -0.32 0 0.15 0 0 0 2.08 ...\n",
            " $ race               : int  1 1 1 1 1 1 1 1 1 1 ...\n",
            " $ complication       : int  0 0 0 0 0 0 0 0 0 0 ...\n"
          ]
        },
        {
          "output_type": "display_data",
          "data": {
            "text/plain": [
              "      bmi             Age          asa_status     baseline_cancer \n",
              " Min.   : 2.15   Min.   : 6.10   Min.   :0.0000   Min.   :0.0000  \n",
              " 1st Qu.:26.51   1st Qu.:51.50   1st Qu.:0.0000   1st Qu.:0.0000  \n",
              " Median :28.98   Median :59.70   Median :1.0000   Median :0.0000  \n",
              " Mean   :31.30   Mean   :63.21   Mean   :0.6323   Mean   :0.2623  \n",
              " 3rd Qu.:35.30   3rd Qu.:74.70   3rd Qu.:1.0000   3rd Qu.:1.0000  \n",
              " Max.   :92.59   Max.   :90.00   Max.   :2.0000   Max.   :1.0000  \n",
              " baseline_charlson  baseline_cvd    baseline_dementia  baseline_diabetes\n",
              " Min.   : 0.0000   Min.   :0.0000   Min.   :0.000000   Min.   :0.0000   \n",
              " 1st Qu.: 0.0000   1st Qu.:0.0000   1st Qu.:0.000000   1st Qu.:0.0000   \n",
              " Median : 0.0000   Median :1.0000   Median :0.000000   Median :0.0000   \n",
              " Mean   : 0.9775   Mean   :0.6203   Mean   :0.004851   Mean   :0.1209   \n",
              " 3rd Qu.: 2.0000   3rd Qu.:1.0000   3rd Qu.:0.000000   3rd Qu.:0.0000   \n",
              " Max.   :13.0000   Max.   :1.0000   Max.   :1.000000   Max.   :1.0000   \n",
              " baseline_digestive baseline_osteoart baseline_psych    baseline_pulmonary\n",
              " Min.   :0.0000     Min.   :0.0000    Min.   :0.00000   Min.   :0.00000   \n",
              " 1st Qu.:0.0000     1st Qu.:0.0000    1st Qu.:0.00000   1st Qu.:0.00000   \n",
              " Median :0.0000     Median :0.0000    Median :0.00000   Median :0.00000   \n",
              " Mean   :0.1895     Mean   :0.3427    Mean   :0.08241   Mean   :0.09409   \n",
              " 3rd Qu.:0.0000     3rd Qu.:1.0000    3rd Qu.:0.00000   3rd Qu.:0.00000   \n",
              " Max.   :1.0000     Max.   :1.0000    Max.   :1.00000   Max.   :1.00000   \n",
              "    ahrq_ccs      ccsComplicationRate ccsMort30Rate      complication_rsi\n",
              " Min.   : 0.000   Min.   :0.01612     Min.   :0.000000   Min.   :-4.720  \n",
              " 1st Qu.: 0.000   1st Qu.:0.08198     1st Qu.:0.001962   1st Qu.:-1.970  \n",
              " Median : 6.000   Median :0.10572     Median :0.002959   Median :-0.580  \n",
              " Mean   : 7.428   Mean   :0.13357     Mean   :0.004447   Mean   :-0.699  \n",
              " 3rd Qu.:13.000   3rd Qu.:0.18337     3rd Qu.:0.007398   3rd Qu.: 0.000  \n",
              " Max.   :21.000   Max.   :0.46613     Max.   :0.016673   Max.   :12.560  \n",
              "      dow            gender            hour           month       \n",
              " Min.   :0.000   Min.   :0.0000   Min.   : 6.07   Min.   : 0.000  \n",
              " 1st Qu.:0.000   1st Qu.:0.0000   1st Qu.: 7.82   1st Qu.: 3.000  \n",
              " Median :1.000   Median :1.0000   Median : 9.12   Median : 7.000  \n",
              " Mean   :1.607   Mean   :0.5489   Mean   :10.17   Mean   : 5.915  \n",
              " 3rd Qu.:3.000   3rd Qu.:1.0000   3rd Qu.:12.05   3rd Qu.: 8.000  \n",
              " Max.   :4.000   Max.   :1.0000   Max.   :18.92   Max.   :11.000  \n",
              "   moonphase         mort30         mortality_rsi          race       \n",
              " Min.   :0.000   Min.   :0.000000   Min.   :-3.8200   Min.   :0.0000  \n",
              " 1st Qu.:0.000   1st Qu.:0.000000   1st Qu.:-2.2500   1st Qu.:1.0000  \n",
              " Median :1.000   Median :0.000000   Median :-0.6400   Median :1.0000  \n",
              " Mean   :1.187   Mean   :0.003963   Mean   :-0.8367   Mean   :0.9194  \n",
              " 3rd Qu.:2.000   3rd Qu.:0.000000   3rd Qu.: 0.0000   3rd Qu.:1.0000  \n",
              " Max.   :3.000   Max.   :1.000000   Max.   : 4.4000   Max.   :2.0000  \n",
              "  complication   \n",
              " Min.   :0.0000  \n",
              " 1st Qu.:0.0000  \n",
              " Median :0.0000  \n",
              " Mean   :0.2521  \n",
              " 3rd Qu.:1.0000  \n",
              " Max.   :1.0000  "
            ]
          },
          "metadata": {}
        }
      ]
    },
    {
      "cell_type": "code",
      "source": [
        "# поля baseline_diabetes и baseline_digestive  категориальные переменные, приведем к фактору (строка-категория)\n",
        "data$baseline_diabetes <- as.factor(data$baseline_diabetes)\n",
        "data$baseline_digestive <- as.factor(data$baseline_digestive)"
      ],
      "metadata": {
        "id": "OFGh4LUKids5"
      },
      "execution_count": 29,
      "outputs": []
    },
    {
      "cell_type": "code",
      "source": [
        "# разбиение выборки на обучающую и тестовую выборки в пропорции 80% к 20% соответственно\n",
        "set.seed(42)\n",
        "ind <- sample(2, nrow(data), replace=TRUE, prob=c(0.8,.2))\n",
        "train <- data[ind==1,]\n",
        "test <- data[ind==2,]"
      ],
      "metadata": {
        "id": "WI0-WRcmnAfF"
      },
      "execution_count": 30,
      "outputs": []
    },
    {
      "cell_type": "code",
      "source": [
        "# модель Naive Bayes; admit как функция для всех остальных данных (.)\n",
        "model <- naive_bayes(baseline_digestive ~ ., data = train,  usekernel = T)\n",
        "model"
      ],
      "metadata": {
        "colab": {
          "base_uri": "https://localhost:8080/",
          "height": 1000
        },
        "id": "hj7O3ie2nC1h",
        "outputId": "7615f9b8-86e4-46c3-8c4d-9bd778848a7f"
      },
      "execution_count": 32,
      "outputs": [
        {
          "output_type": "display_data",
          "data": {
            "text/plain": [
              "\n",
              "================================== Naive Bayes ================================== \n",
              " \n",
              " Call: \n",
              "naive_bayes.formula(formula = baseline_digestive ~ ., data = train, \n",
              "    usekernel = T)\n",
              "\n",
              "--------------------------------------------------------------------------------- \n",
              " \n",
              "Laplace smoothing: 0\n",
              "\n",
              "--------------------------------------------------------------------------------- \n",
              " \n",
              " A priori probabilities: \n",
              "\n",
              "        0         1 \n",
              "0.8113739 0.1886261 \n",
              "\n",
              "--------------------------------------------------------------------------------- \n",
              " \n",
              " Tables: \n",
              "\n",
              "--------------------------------------------------------------------------------- \n",
              " ::: bmi::0 (KDE)\n",
              "--------------------------------------------------------------------------------- \n",
              "\n",
              "Call:\n",
              "\tdensity.default(x = x, na.rm = TRUE)\n",
              "\n",
              "Data: x (9502 obs.);\tBandwidth 'bw' = 0.7711\n",
              "\n",
              "       x                 y            \n",
              " Min.   :-0.1632   Min.   :0.000e+00  \n",
              " 1st Qu.:23.6034   1st Qu.:2.978e-05  \n",
              " Median :47.3700   Median :5.315e-04  \n",
              " Mean   :47.3700   Mean   :1.051e-02  \n",
              " 3rd Qu.:71.1366   3rd Qu.:1.136e-02  \n",
              " Max.   :94.9032   Max.   :1.657e-01  \n",
              "\n",
              "--------------------------------------------------------------------------------- \n",
              " ::: bmi::1 (KDE)\n",
              "--------------------------------------------------------------------------------- \n",
              "\n",
              "Call:\n",
              "\tdensity.default(x = x, na.rm = TRUE)\n",
              "\n",
              "Data: x (2209 obs.);\tBandwidth 'bw' = 1.833\n",
              "\n",
              "       x                y            \n",
              " Min.   : 6.641   Min.   :1.130e-06  \n",
              " 1st Qu.:28.838   1st Qu.:4.079e-04  \n",
              " Median :51.035   Median :2.182e-03  \n",
              " Mean   :51.035   Mean   :1.125e-02  \n",
              " 3rd Qu.:73.232   3rd Qu.:2.116e-02  \n",
              " Max.   :95.429   Max.   :4.921e-02  \n",
              "\n",
              "--------------------------------------------------------------------------------- \n",
              " ::: Age::0 (KDE)\n",
              "--------------------------------------------------------------------------------- \n",
              "\n",
              "Call:\n",
              "\tdensity.default(x = x, na.rm = TRUE)\n",
              "\n",
              "Data: x (9502 obs.);\tBandwidth 'bw' = 2.741\n",
              "\n",
              "       x                y            \n",
              " Min.   : 4.377   Min.   :0.0000004  \n",
              " 1st Qu.:27.839   1st Qu.:0.0014785  \n",
              " Median :51.300   Median :0.0098178  \n",
              " Mean   :51.300   Mean   :0.0106421  \n",
              " 3rd Qu.:74.761   3rd Qu.:0.0159172  \n",
              " Max.   :98.223   Max.   :0.0366526  \n",
              "\n",
              "--------------------------------------------------------------------------------- \n",
              " ::: Age::1 (KDE)\n",
              "--------------------------------------------------------------------------------- \n",
              "\n",
              "Call:\n",
              "\tdensity.default(x = x, na.rm = TRUE)\n",
              "\n",
              "Data: x (2209 obs.);\tBandwidth 'bw' = 2.398\n",
              "\n",
              "       x                y            \n",
              " Min.   : 1.705   Min.   :8.500e-07  \n",
              " 1st Qu.:25.578   1st Qu.:2.322e-04  \n",
              " Median :49.450   Median :5.106e-03  \n",
              " Mean   :49.450   Mean   :1.046e-02  \n",
              " 3rd Qu.:73.322   3rd Qu.:1.666e-02  \n",
              " Max.   :97.195   Max.   :4.343e-02  \n",
              "\n",
              "--------------------------------------------------------------------------------- \n",
              " ::: asa_status::0 (KDE)\n",
              "--------------------------------------------------------------------------------- \n",
              "\n",
              "Call:\n",
              "\tdensity.default(x = x, na.rm = TRUE)\n",
              "\n",
              "Data: x (9502 obs.);\tBandwidth 'bw' = 0.077\n",
              "\n",
              "       x                 y            \n",
              " Min.   :-0.2310   Min.   :0.0000000  \n",
              " 1st Qu.: 0.3845   1st Qu.:0.0000543  \n",
              " Median : 1.0000   Median :0.0229710  \n",
              " Mean   : 1.0000   Mean   :0.4055572  \n",
              " 3rd Qu.: 1.6155   3rd Qu.:0.3327711  \n",
              " Max.   : 2.2310   Max.   :2.9620750  \n",
              "\n",
              "--------------------------------------------------------------------------------- \n",
              " ::: asa_status::1 (KDE)\n",
              "--------------------------------------------------------------------------------- \n",
              "\n",
              "Call:\n",
              "\tdensity.default(x = x, na.rm = TRUE)\n",
              "\n",
              "Data: x (2209 obs.);\tBandwidth 'bw' = 0.1089\n",
              "\n",
              "       x                 y            \n",
              " Min.   :-0.3267   Min.   :0.0000321  \n",
              " 1st Qu.: 0.3367   1st Qu.:0.0063818  \n",
              " Median : 1.0000   Median :0.0846075  \n",
              " Mean   : 1.0000   Mean   :0.3763007  \n",
              " 3rd Qu.: 1.6633   3rd Qu.:0.5379110  \n",
              " Max.   : 2.3267   Max.   :2.0858700  \n",
              "\n",
              "--------------------------------------------------------------------------------- \n",
              " ::: baseline_cancer::0 (KDE)\n",
              "--------------------------------------------------------------------------------- \n",
              "\n",
              "Call:\n",
              "\tdensity.default(x = x, na.rm = TRUE)\n",
              "\n",
              "Data: x (9502 obs.);\tBandwidth 'bw' = 0.06286\n",
              "\n",
              "       x                 y           \n",
              " Min.   :-0.1886   Min.   :0.000000  \n",
              " 1st Qu.: 0.1557   1st Qu.:0.000004  \n",
              " Median : 0.5000   Median :0.063529  \n",
              " Mean   : 0.5000   Mean   :0.724483  \n",
              " 3rd Qu.: 0.8443   3rd Qu.:1.002394  \n",
              " Max.   : 1.1886   Max.   :4.720012  \n",
              "\n",
              "--------------------------------------------------------------------------------- \n",
              " ::: baseline_cancer::1 (KDE)\n",
              "--------------------------------------------------------------------------------- \n",
              "\n",
              "Call:\n",
              "\tdensity.default(x = x, na.rm = TRUE)\n",
              "\n",
              "Data: x (2209 obs.);\tBandwidth 'bw' = 0.08717\n",
              "\n",
              "       x                 y           \n",
              " Min.   :-0.2615   Min.   :0.000000  \n",
              " 1st Qu.: 0.1192   1st Qu.:0.003929  \n",
              " Median : 0.5000   Median :0.185642  \n",
              " Mean   : 0.5000   Mean   :0.655096  \n",
              " 3rd Qu.: 0.8808   3rd Qu.:1.041743  \n",
              " Max.   : 1.2615   Max.   :3.267157  \n",
              "\n",
              "--------------------------------------------------------------------------------- \n",
              " ::: baseline_charlson::0 (KDE)\n",
              "--------------------------------------------------------------------------------- \n",
              "\n",
              "Call:\n",
              "\tdensity.default(x = x, na.rm = TRUE)\n",
              "\n",
              "Data: x (9502 obs.);\tBandwidth 'bw' = 0.1075\n",
              "\n",
              "       x                 y            \n",
              " Min.   :-0.3226   Min.   :0.0000000  \n",
              " 1st Qu.: 3.0887   1st Qu.:0.0000505  \n",
              " Median : 6.5000   Median :0.0007694  \n",
              " Mean   : 6.5000   Mean   :0.0730972  \n",
              " 3rd Qu.: 9.9113   3rd Qu.:0.0140648  \n",
              " Max.   :13.3226   Max.   :2.3544408  \n",
              "\n",
              "--------------------------------------------------------------------------------- \n",
              " ::: baseline_charlson::1 (KDE)\n",
              "--------------------------------------------------------------------------------- \n",
              "\n",
              "Call:\n",
              "\tdensity.default(x = x, na.rm = TRUE)\n",
              "\n",
              "Data: x (2209 obs.);\tBandwidth 'bw' = 0.288\n",
              "\n",
              "       x                 y            \n",
              " Min.   :-0.8639   Min.   :0.0000286  \n",
              " 1st Qu.: 2.3181   1st Qu.:0.0039548  \n",
              " Median : 5.5000   Median :0.0107634  \n",
              " Mean   : 5.5000   Mean   :0.0784484  \n",
              " 3rd Qu.: 8.6819   3rd Qu.:0.0771127  \n",
              " Max.   :11.8639   Max.   :0.6321467  \n",
              "\n",
              "---------------------------------------------------------------------------------\n",
              "\n",
              "# ... and 19 more tables\n",
              "\n",
              "---------------------------------------------------------------------------------\n"
            ]
          },
          "metadata": {}
        }
      ]
    },
    {
      "cell_type": "code",
      "source": [
        "# предсказание на тренировочно выборке\n",
        "p <- predict(model, train, type= 'prob')\n",
        "head(cbind(p, train))"
      ],
      "metadata": {
        "colab": {
          "base_uri": "https://localhost:8080/",
          "height": 321
        },
        "id": "k3Ab3Zownp_B",
        "outputId": "2045a503-7795-4597-82da-d7e86e4e80fe"
      },
      "execution_count": 33,
      "outputs": [
        {
          "output_type": "stream",
          "name": "stderr",
          "text": [
            "Warning message:\n",
            "“predict.naive_bayes(): more features in the newdata are provided as there are probability tables in the object. Calculation is performed based on features to be found in the tables.”\n"
          ]
        },
        {
          "output_type": "display_data",
          "data": {
            "text/html": [
              "<table class=\"dataframe\">\n",
              "<caption>A data.frame: 6 × 27</caption>\n",
              "<thead>\n",
              "\t<tr><th></th><th scope=col>0</th><th scope=col>1</th><th scope=col>bmi</th><th scope=col>Age</th><th scope=col>asa_status</th><th scope=col>baseline_cancer</th><th scope=col>baseline_charlson</th><th scope=col>baseline_cvd</th><th scope=col>baseline_dementia</th><th scope=col>baseline_diabetes</th><th scope=col>⋯</th><th scope=col>complication_rsi</th><th scope=col>dow</th><th scope=col>gender</th><th scope=col>hour</th><th scope=col>month</th><th scope=col>moonphase</th><th scope=col>mort30</th><th scope=col>mortality_rsi</th><th scope=col>race</th><th scope=col>complication</th></tr>\n",
              "\t<tr><th></th><th scope=col>&lt;dbl&gt;</th><th scope=col>&lt;dbl&gt;</th><th scope=col>&lt;dbl&gt;</th><th scope=col>&lt;dbl&gt;</th><th scope=col>&lt;int&gt;</th><th scope=col>&lt;int&gt;</th><th scope=col>&lt;int&gt;</th><th scope=col>&lt;int&gt;</th><th scope=col>&lt;int&gt;</th><th scope=col>&lt;fct&gt;</th><th scope=col>⋯</th><th scope=col>&lt;dbl&gt;</th><th scope=col>&lt;int&gt;</th><th scope=col>&lt;int&gt;</th><th scope=col>&lt;dbl&gt;</th><th scope=col>&lt;int&gt;</th><th scope=col>&lt;int&gt;</th><th scope=col>&lt;int&gt;</th><th scope=col>&lt;dbl&gt;</th><th scope=col>&lt;int&gt;</th><th scope=col>&lt;int&gt;</th></tr>\n",
              "</thead>\n",
              "<tbody>\n",
              "\t<tr><th scope=row>3</th><td>0.9978256</td><td>0.0021744239</td><td>21.85</td><td>59.0</td><td>0</td><td>0</td><td>0</td><td>0</td><td>0</td><td>0</td><td>⋯</td><td> 0.00</td><td>2</td><td>0</td><td> 7.68</td><td> 5</td><td>3</td><td>0</td><td>0.08</td><td>1</td><td>0</td></tr>\n",
              "\t<tr><th scope=row>5</th><td>0.9998997</td><td>0.0001002689</td><td>19.70</td><td>59.0</td><td>1</td><td>0</td><td>0</td><td>0</td><td>0</td><td>0</td><td>⋯</td><td> 0.00</td><td>0</td><td>0</td><td> 7.88</td><td>11</td><td>0</td><td>0</td><td>0.00</td><td>1</td><td>0</td></tr>\n",
              "\t<tr><th scope=row>6</th><td>0.9971501</td><td>0.0028498708</td><td>20.24</td><td>59.0</td><td>0</td><td>1</td><td>0</td><td>0</td><td>0</td><td>0</td><td>⋯</td><td> 0.00</td><td>1</td><td>0</td><td> 7.63</td><td> 0</td><td>3</td><td>0</td><td>0.15</td><td>1</td><td>0</td></tr>\n",
              "\t<tr><th scope=row>7</th><td>0.9998712</td><td>0.0001287773</td><td>21.18</td><td>59.0</td><td>0</td><td>1</td><td>0</td><td>0</td><td>0</td><td>0</td><td>⋯</td><td> 0.00</td><td>0</td><td>0</td><td> 9.62</td><td>10</td><td>3</td><td>0</td><td>0.00</td><td>1</td><td>0</td></tr>\n",
              "\t<tr><th scope=row>8</th><td>0.9995260</td><td>0.0004740290</td><td>18.99</td><td>58.9</td><td>0</td><td>0</td><td>0</td><td>0</td><td>0</td><td>0</td><td>⋯</td><td>-0.38</td><td>4</td><td>0</td><td> 8.60</td><td> 6</td><td>1</td><td>0</td><td>0.00</td><td>1</td><td>0</td></tr>\n",
              "\t<tr><th scope=row>9</th><td>0.9997080</td><td>0.0002920390</td><td>22.20</td><td>58.9</td><td>1</td><td>0</td><td>0</td><td>0</td><td>0</td><td>0</td><td>⋯</td><td> 0.00</td><td>4</td><td>0</td><td>13.00</td><td>10</td><td>0</td><td>0</td><td>0.00</td><td>1</td><td>0</td></tr>\n",
              "</tbody>\n",
              "</table>\n"
            ],
            "text/markdown": "\nA data.frame: 6 × 27\n\n| <!--/--> | 0 &lt;dbl&gt; | 1 &lt;dbl&gt; | bmi &lt;dbl&gt; | Age &lt;dbl&gt; | asa_status &lt;int&gt; | baseline_cancer &lt;int&gt; | baseline_charlson &lt;int&gt; | baseline_cvd &lt;int&gt; | baseline_dementia &lt;int&gt; | baseline_diabetes &lt;fct&gt; | ⋯ ⋯ | complication_rsi &lt;dbl&gt; | dow &lt;int&gt; | gender &lt;int&gt; | hour &lt;dbl&gt; | month &lt;int&gt; | moonphase &lt;int&gt; | mort30 &lt;int&gt; | mortality_rsi &lt;dbl&gt; | race &lt;int&gt; | complication &lt;int&gt; |\n|---|---|---|---|---|---|---|---|---|---|---|---|---|---|---|---|---|---|---|---|---|---|\n| 3 | 0.9978256 | 0.0021744239 | 21.85 | 59.0 | 0 | 0 | 0 | 0 | 0 | 0 | ⋯ |  0.00 | 2 | 0 |  7.68 |  5 | 3 | 0 | 0.08 | 1 | 0 |\n| 5 | 0.9998997 | 0.0001002689 | 19.70 | 59.0 | 1 | 0 | 0 | 0 | 0 | 0 | ⋯ |  0.00 | 0 | 0 |  7.88 | 11 | 0 | 0 | 0.00 | 1 | 0 |\n| 6 | 0.9971501 | 0.0028498708 | 20.24 | 59.0 | 0 | 1 | 0 | 0 | 0 | 0 | ⋯ |  0.00 | 1 | 0 |  7.63 |  0 | 3 | 0 | 0.15 | 1 | 0 |\n| 7 | 0.9998712 | 0.0001287773 | 21.18 | 59.0 | 0 | 1 | 0 | 0 | 0 | 0 | ⋯ |  0.00 | 0 | 0 |  9.62 | 10 | 3 | 0 | 0.00 | 1 | 0 |\n| 8 | 0.9995260 | 0.0004740290 | 18.99 | 58.9 | 0 | 0 | 0 | 0 | 0 | 0 | ⋯ | -0.38 | 4 | 0 |  8.60 |  6 | 1 | 0 | 0.00 | 1 | 0 |\n| 9 | 0.9997080 | 0.0002920390 | 22.20 | 58.9 | 1 | 0 | 0 | 0 | 0 | 0 | ⋯ |  0.00 | 4 | 0 | 13.00 | 10 | 0 | 0 | 0.00 | 1 | 0 |\n\n",
            "text/latex": "A data.frame: 6 × 27\n\\begin{tabular}{r|lllllllllllllllllllll}\n  & 0 & 1 & bmi & Age & asa\\_status & baseline\\_cancer & baseline\\_charlson & baseline\\_cvd & baseline\\_dementia & baseline\\_diabetes & ⋯ & complication\\_rsi & dow & gender & hour & month & moonphase & mort30 & mortality\\_rsi & race & complication\\\\\n  & <dbl> & <dbl> & <dbl> & <dbl> & <int> & <int> & <int> & <int> & <int> & <fct> & ⋯ & <dbl> & <int> & <int> & <dbl> & <int> & <int> & <int> & <dbl> & <int> & <int>\\\\\n\\hline\n\t3 & 0.9978256 & 0.0021744239 & 21.85 & 59.0 & 0 & 0 & 0 & 0 & 0 & 0 & ⋯ &  0.00 & 2 & 0 &  7.68 &  5 & 3 & 0 & 0.08 & 1 & 0\\\\\n\t5 & 0.9998997 & 0.0001002689 & 19.70 & 59.0 & 1 & 0 & 0 & 0 & 0 & 0 & ⋯ &  0.00 & 0 & 0 &  7.88 & 11 & 0 & 0 & 0.00 & 1 & 0\\\\\n\t6 & 0.9971501 & 0.0028498708 & 20.24 & 59.0 & 0 & 1 & 0 & 0 & 0 & 0 & ⋯ &  0.00 & 1 & 0 &  7.63 &  0 & 3 & 0 & 0.15 & 1 & 0\\\\\n\t7 & 0.9998712 & 0.0001287773 & 21.18 & 59.0 & 0 & 1 & 0 & 0 & 0 & 0 & ⋯ &  0.00 & 0 & 0 &  9.62 & 10 & 3 & 0 & 0.00 & 1 & 0\\\\\n\t8 & 0.9995260 & 0.0004740290 & 18.99 & 58.9 & 0 & 0 & 0 & 0 & 0 & 0 & ⋯ & -0.38 & 4 & 0 &  8.60 &  6 & 1 & 0 & 0.00 & 1 & 0\\\\\n\t9 & 0.9997080 & 0.0002920390 & 22.20 & 58.9 & 1 & 0 & 0 & 0 & 0 & 0 & ⋯ &  0.00 & 4 & 0 & 13.00 & 10 & 0 & 0 & 0.00 & 1 & 0\\\\\n\\end{tabular}\n",
            "text/plain": [
              "  0         1            bmi   Age  asa_status baseline_cancer\n",
              "3 0.9978256 0.0021744239 21.85 59.0 0          0              \n",
              "5 0.9998997 0.0001002689 19.70 59.0 1          0              \n",
              "6 0.9971501 0.0028498708 20.24 59.0 0          1              \n",
              "7 0.9998712 0.0001287773 21.18 59.0 0          1              \n",
              "8 0.9995260 0.0004740290 18.99 58.9 0          0              \n",
              "9 0.9997080 0.0002920390 22.20 58.9 1          0              \n",
              "  baseline_charlson baseline_cvd baseline_dementia baseline_diabetes ⋯\n",
              "3 0                 0            0                 0                 ⋯\n",
              "5 0                 0            0                 0                 ⋯\n",
              "6 0                 0            0                 0                 ⋯\n",
              "7 0                 0            0                 0                 ⋯\n",
              "8 0                 0            0                 0                 ⋯\n",
              "9 0                 0            0                 0                 ⋯\n",
              "  complication_rsi dow gender hour  month moonphase mort30 mortality_rsi race\n",
              "3  0.00            2   0       7.68  5    3         0      0.08          1   \n",
              "5  0.00            0   0       7.88 11    0         0      0.00          1   \n",
              "6  0.00            1   0       7.63  0    3         0      0.15          1   \n",
              "7  0.00            0   0       9.62 10    3         0      0.00          1   \n",
              "8 -0.38            4   0       8.60  6    1         0      0.00          1   \n",
              "9  0.00            4   0      13.00 10    0         0      0.00          1   \n",
              "  complication\n",
              "3 0           \n",
              "5 0           \n",
              "6 0           \n",
              "7 0           \n",
              "8 0           \n",
              "9 0           "
            ]
          },
          "metadata": {}
        }
      ]
    },
    {
      "cell_type": "code",
      "source": [
        "cat(\"# Misclassification error - train data:\")\n",
        "p1 <- predict(model, within(train, rm(baseline_digestive)))\n",
        "(tab1 <- table(p1, train$baseline_digestive))\n",
        "1 - sum(diag(tab1))/ sum(tab1)\n",
        "\n",
        "cat(\"\\n# Misclassification error - test data\")\n",
        "p2 <- predict(model, within(test, rm(baseline_digestive)))\n",
        "(tab2 <- table(p2, test$baseline_digestive))\n",
        "1 - sum(diag(tab2))/ sum(tab2)"
      ],
      "metadata": {
        "colab": {
          "base_uri": "https://localhost:8080/",
          "height": 243
        },
        "id": "XAByskXfnsy6",
        "outputId": "191d70c2-05c2-4d1b-fa4b-79bfe7d0b699"
      },
      "execution_count": 34,
      "outputs": [
        {
          "output_type": "stream",
          "name": "stdout",
          "text": [
            "# Misclassification error - train data:"
          ]
        },
        {
          "output_type": "display_data",
          "data": {
            "text/plain": [
              "   \n",
              "p1     0    1\n",
              "  0 9500 2197\n",
              "  1    2   12"
            ]
          },
          "metadata": {}
        },
        {
          "output_type": "display_data",
          "data": {
            "text/html": [
              "0.187772180001708"
            ],
            "text/markdown": "0.187772180001708",
            "text/latex": "0.187772180001708",
            "text/plain": [
              "[1] 0.1877722"
            ]
          },
          "metadata": {}
        },
        {
          "output_type": "stream",
          "name": "stdout",
          "text": [
            "\n",
            "# Misclassification error - test data"
          ]
        },
        {
          "output_type": "display_data",
          "data": {
            "text/plain": [
              "   \n",
              "p2     0    1\n",
              "  0 2358  557\n",
              "  1    1    8"
            ]
          },
          "metadata": {}
        },
        {
          "output_type": "display_data",
          "data": {
            "text/html": [
              "0.190834473324213"
            ],
            "text/markdown": "0.190834473324213",
            "text/latex": "0.190834473324213",
            "text/plain": [
              "[1] 0.1908345"
            ]
          },
          "metadata": {}
        }
      ]
    },
    {
      "cell_type": "code",
      "source": [
        "# конструируем аналогичный фактор  \n",
        "baseline_digestive = as.factor(1:2)\n",
        "\n",
        "# новые данные из 3х элементов\n",
        "new <- data.frame(hour=c(8, 10, 13), month=c(0, 6, 11), moonphase=c(0, 1, 3), gender=c(0, 0, 1), baseline_digestive=baseline_digestive[c(0, 0, 1)])\n",
        "new$baseline_digestive <- as.factor(new$baseline_digestive)\n",
        "new$hour <- as.integer(new$hour)\n",
        "\n",
        "# метки\n",
        "p3 <- predict(model, new)\n",
        "\n",
        "cbind(baseline_digestive=p3, new)"
      ],
      "metadata": {
        "colab": {
          "base_uri": "https://localhost:8080/",
          "height": 244
        },
        "id": "Tw1zOyb5n1I9",
        "outputId": "79f8f829-291e-4895-b4f6-d99b59276072"
      },
      "execution_count": 40,
      "outputs": [
        {
          "output_type": "stream",
          "name": "stderr",
          "text": [
            "Warning message:\n",
            "“predict.naive_bayes(): only 4 feature(s) out of 24 defined in the naive_bayes object \"model\" are used for prediction.\n",
            "”\n"
          ]
        },
        {
          "output_type": "display_data",
          "data": {
            "text/html": [
              "<table class=\"dataframe\">\n",
              "<caption>A data.frame: 3 × 6</caption>\n",
              "<thead>\n",
              "\t<tr><th scope=col>baseline_digestive</th><th scope=col>hour</th><th scope=col>month</th><th scope=col>moonphase</th><th scope=col>gender</th><th scope=col>baseline_digestive</th></tr>\n",
              "\t<tr><th scope=col>&lt;fct&gt;</th><th scope=col>&lt;int&gt;</th><th scope=col>&lt;dbl&gt;</th><th scope=col>&lt;dbl&gt;</th><th scope=col>&lt;dbl&gt;</th><th scope=col>&lt;fct&gt;</th></tr>\n",
              "</thead>\n",
              "<tbody>\n",
              "\t<tr><td>0</td><td> 8</td><td> 0</td><td>0</td><td>0</td><td>1</td></tr>\n",
              "\t<tr><td>0</td><td>10</td><td> 6</td><td>1</td><td>0</td><td>1</td></tr>\n",
              "\t<tr><td>0</td><td>13</td><td>11</td><td>3</td><td>1</td><td>1</td></tr>\n",
              "</tbody>\n",
              "</table>\n"
            ],
            "text/markdown": "\nA data.frame: 3 × 6\n\n| baseline_digestive &lt;fct&gt; | hour &lt;int&gt; | month &lt;dbl&gt; | moonphase &lt;dbl&gt; | gender &lt;dbl&gt; | baseline_digestive &lt;fct&gt; |\n|---|---|---|---|---|---|\n| 0 |  8 |  0 | 0 | 0 | 1 |\n| 0 | 10 |  6 | 1 | 0 | 1 |\n| 0 | 13 | 11 | 3 | 1 | 1 |\n\n",
            "text/latex": "A data.frame: 3 × 6\n\\begin{tabular}{llllll}\n baseline\\_digestive & hour & month & moonphase & gender & baseline\\_digestive\\\\\n <fct> & <int> & <dbl> & <dbl> & <dbl> & <fct>\\\\\n\\hline\n\t 0 &  8 &  0 & 0 & 0 & 1\\\\\n\t 0 & 10 &  6 & 1 & 0 & 1\\\\\n\t 0 & 13 & 11 & 3 & 1 & 1\\\\\n\\end{tabular}\n",
            "text/plain": [
              "  baseline_digestive hour month moonphase gender baseline_digestive\n",
              "1 0                   8    0    0         0      1                 \n",
              "2 0                  10    6    1         0      1                 \n",
              "3 0                  13   11    3         1      1                 "
            ]
          },
          "metadata": {}
        }
      ]
    }
  ]
}