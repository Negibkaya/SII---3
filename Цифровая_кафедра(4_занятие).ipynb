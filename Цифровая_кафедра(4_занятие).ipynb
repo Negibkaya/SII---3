{
  "nbformat": 4,
  "nbformat_minor": 0,
  "metadata": {
    "colab": {
      "provenance": [],
      "authorship_tag": "ABX9TyOpKMGdvjFqW5hJYZKB0jzt",
      "include_colab_link": true
    },
    "kernelspec": {
      "name": "python3",
      "display_name": "Python 3"
    },
    "language_info": {
      "name": "python"
    }
  },
  "cells": [
    {
      "cell_type": "markdown",
      "metadata": {
        "id": "view-in-github",
        "colab_type": "text"
      },
      "source": [
        "<a href=\"https://colab.research.google.com/github/Negibkaya/SII---3/blob/main/%D0%A6%D0%B8%D1%84%D1%80%D0%BE%D0%B2%D0%B0%D1%8F_%D0%BA%D0%B0%D1%84%D0%B5%D0%B4%D1%80%D0%B0(4_%D0%B7%D0%B0%D0%BD%D1%8F%D1%82%D0%B8%D0%B5).ipynb\" target=\"_parent\"><img src=\"https://colab.research.google.com/assets/colab-badge.svg\" alt=\"Open In Colab\"/></a>"
      ]
    },
    {
      "cell_type": "code",
      "execution_count": 55,
      "metadata": {
        "id": "wYXXvdf4TOzF"
      },
      "outputs": [],
      "source": [
        "import warnings\n",
        "warnings.simplefilter(action='ignore', category=FutureWarning)"
      ]
    },
    {
      "cell_type": "code",
      "source": [
        "import pandas as pd"
      ],
      "metadata": {
        "id": "lZnL7rkRT5az"
      },
      "execution_count": 56,
      "outputs": []
    },
    {
      "cell_type": "code",
      "source": [
        "import matplotlib.pyplot as plt"
      ],
      "metadata": {
        "id": "hIAEqFPFT9oN"
      },
      "execution_count": 57,
      "outputs": []
    },
    {
      "cell_type": "code",
      "source": [
        "%matplotlib inline"
      ],
      "metadata": {
        "id": "v1L5_bACUAPf"
      },
      "execution_count": 58,
      "outputs": []
    },
    {
      "cell_type": "code",
      "source": [
        "training_data = pd.read_csv('AAPL.csv')"
      ],
      "metadata": {
        "id": "bPpDLPAyUGKQ"
      },
      "execution_count": 59,
      "outputs": []
    },
    {
      "cell_type": "code",
      "source": [
        "training_data.head(10)"
      ],
      "metadata": {
        "colab": {
          "base_uri": "https://localhost:8080/",
          "height": 363
        },
        "id": "CnZNlsezUPyI",
        "outputId": "7fbb479f-a95c-4d8a-8154-c55c91609c7b"
      },
      "execution_count": 60,
      "outputs": [
        {
          "output_type": "execute_result",
          "data": {
            "text/plain": [
              "         date     open     high      low    close    volume  unadjustedVolume  \\\n",
              "0  2014-02-21  69.9727  70.2061  68.8967  68.9821  69757247           9965321   \n",
              "1  2014-02-24  68.7063  69.5954  68.6104  69.2841  72364950          10337850   \n",
              "2  2014-02-25  69.5245  69.5488  68.4239  68.5631  58247350           8321050   \n",
              "3  2014-02-26  68.7667  68.9492  67.7147  67.9446  69131286           9875898   \n",
              "4  2014-02-27  67.9170  69.4457  67.7738  69.2999  75557321          10793903   \n",
              "5  2014-02-28  69.4851  69.9671  68.5710  69.1121  93074653          13296379   \n",
              "6  2014-03-03  68.7417  69.6913  68.6616  69.3117  59667923           8523989   \n",
              "7  2014-03-04  69.7372  69.9526  69.3130  69.7688  64884834           9269262   \n",
              "8  2014-03-05  69.7267  70.2297  69.4916  69.9158  50065519           7152217   \n",
              "9  2014-03-06  69.9723  70.1890  69.3564  69.7044  46423111           6631873   \n",
              "\n",
              "     change  changePercent     vwap       label  changeOverTime  \n",
              "0 -0.774858         -1.111  69.4256  Feb 21, 14        0.000000  \n",
              "1  0.302061          0.438  69.1567  Feb 24, 14        0.004378  \n",
              "2 -0.721010         -1.041  68.9153  Feb 25, 14       -0.006074  \n",
              "3 -0.618575         -0.902  68.1373  Feb 26, 14       -0.015040  \n",
              "4  1.355300          1.995  68.8615  Feb 27, 14        0.004607  \n",
              "5 -0.187807         -0.271  69.2731  Feb 28, 14        0.001885  \n",
              "6  0.199626          0.289  69.1371   Mar 3, 14        0.004778  \n",
              "7  0.457035          0.659  69.6940   Mar 4, 14        0.011404  \n",
              "8  0.147093          0.211  71.9382   Mar 5, 14        0.013535  \n",
              "9 -0.211448         -0.302  69.7696   Mar 6, 14        0.010471  "
            ],
            "text/html": [
              "\n",
              "  <div id=\"df-6b370d89-4f0c-43c4-afd8-7c0c9f217876\">\n",
              "    <div class=\"colab-df-container\">\n",
              "      <div>\n",
              "<style scoped>\n",
              "    .dataframe tbody tr th:only-of-type {\n",
              "        vertical-align: middle;\n",
              "    }\n",
              "\n",
              "    .dataframe tbody tr th {\n",
              "        vertical-align: top;\n",
              "    }\n",
              "\n",
              "    .dataframe thead th {\n",
              "        text-align: right;\n",
              "    }\n",
              "</style>\n",
              "<table border=\"1\" class=\"dataframe\">\n",
              "  <thead>\n",
              "    <tr style=\"text-align: right;\">\n",
              "      <th></th>\n",
              "      <th>date</th>\n",
              "      <th>open</th>\n",
              "      <th>high</th>\n",
              "      <th>low</th>\n",
              "      <th>close</th>\n",
              "      <th>volume</th>\n",
              "      <th>unadjustedVolume</th>\n",
              "      <th>change</th>\n",
              "      <th>changePercent</th>\n",
              "      <th>vwap</th>\n",
              "      <th>label</th>\n",
              "      <th>changeOverTime</th>\n",
              "    </tr>\n",
              "  </thead>\n",
              "  <tbody>\n",
              "    <tr>\n",
              "      <th>0</th>\n",
              "      <td>2014-02-21</td>\n",
              "      <td>69.9727</td>\n",
              "      <td>70.2061</td>\n",
              "      <td>68.8967</td>\n",
              "      <td>68.9821</td>\n",
              "      <td>69757247</td>\n",
              "      <td>9965321</td>\n",
              "      <td>-0.774858</td>\n",
              "      <td>-1.111</td>\n",
              "      <td>69.4256</td>\n",
              "      <td>Feb 21, 14</td>\n",
              "      <td>0.000000</td>\n",
              "    </tr>\n",
              "    <tr>\n",
              "      <th>1</th>\n",
              "      <td>2014-02-24</td>\n",
              "      <td>68.7063</td>\n",
              "      <td>69.5954</td>\n",
              "      <td>68.6104</td>\n",
              "      <td>69.2841</td>\n",
              "      <td>72364950</td>\n",
              "      <td>10337850</td>\n",
              "      <td>0.302061</td>\n",
              "      <td>0.438</td>\n",
              "      <td>69.1567</td>\n",
              "      <td>Feb 24, 14</td>\n",
              "      <td>0.004378</td>\n",
              "    </tr>\n",
              "    <tr>\n",
              "      <th>2</th>\n",
              "      <td>2014-02-25</td>\n",
              "      <td>69.5245</td>\n",
              "      <td>69.5488</td>\n",
              "      <td>68.4239</td>\n",
              "      <td>68.5631</td>\n",
              "      <td>58247350</td>\n",
              "      <td>8321050</td>\n",
              "      <td>-0.721010</td>\n",
              "      <td>-1.041</td>\n",
              "      <td>68.9153</td>\n",
              "      <td>Feb 25, 14</td>\n",
              "      <td>-0.006074</td>\n",
              "    </tr>\n",
              "    <tr>\n",
              "      <th>3</th>\n",
              "      <td>2014-02-26</td>\n",
              "      <td>68.7667</td>\n",
              "      <td>68.9492</td>\n",
              "      <td>67.7147</td>\n",
              "      <td>67.9446</td>\n",
              "      <td>69131286</td>\n",
              "      <td>9875898</td>\n",
              "      <td>-0.618575</td>\n",
              "      <td>-0.902</td>\n",
              "      <td>68.1373</td>\n",
              "      <td>Feb 26, 14</td>\n",
              "      <td>-0.015040</td>\n",
              "    </tr>\n",
              "    <tr>\n",
              "      <th>4</th>\n",
              "      <td>2014-02-27</td>\n",
              "      <td>67.9170</td>\n",
              "      <td>69.4457</td>\n",
              "      <td>67.7738</td>\n",
              "      <td>69.2999</td>\n",
              "      <td>75557321</td>\n",
              "      <td>10793903</td>\n",
              "      <td>1.355300</td>\n",
              "      <td>1.995</td>\n",
              "      <td>68.8615</td>\n",
              "      <td>Feb 27, 14</td>\n",
              "      <td>0.004607</td>\n",
              "    </tr>\n",
              "    <tr>\n",
              "      <th>5</th>\n",
              "      <td>2014-02-28</td>\n",
              "      <td>69.4851</td>\n",
              "      <td>69.9671</td>\n",
              "      <td>68.5710</td>\n",
              "      <td>69.1121</td>\n",
              "      <td>93074653</td>\n",
              "      <td>13296379</td>\n",
              "      <td>-0.187807</td>\n",
              "      <td>-0.271</td>\n",
              "      <td>69.2731</td>\n",
              "      <td>Feb 28, 14</td>\n",
              "      <td>0.001885</td>\n",
              "    </tr>\n",
              "    <tr>\n",
              "      <th>6</th>\n",
              "      <td>2014-03-03</td>\n",
              "      <td>68.7417</td>\n",
              "      <td>69.6913</td>\n",
              "      <td>68.6616</td>\n",
              "      <td>69.3117</td>\n",
              "      <td>59667923</td>\n",
              "      <td>8523989</td>\n",
              "      <td>0.199626</td>\n",
              "      <td>0.289</td>\n",
              "      <td>69.1371</td>\n",
              "      <td>Mar 3, 14</td>\n",
              "      <td>0.004778</td>\n",
              "    </tr>\n",
              "    <tr>\n",
              "      <th>7</th>\n",
              "      <td>2014-03-04</td>\n",
              "      <td>69.7372</td>\n",
              "      <td>69.9526</td>\n",
              "      <td>69.3130</td>\n",
              "      <td>69.7688</td>\n",
              "      <td>64884834</td>\n",
              "      <td>9269262</td>\n",
              "      <td>0.457035</td>\n",
              "      <td>0.659</td>\n",
              "      <td>69.6940</td>\n",
              "      <td>Mar 4, 14</td>\n",
              "      <td>0.011404</td>\n",
              "    </tr>\n",
              "    <tr>\n",
              "      <th>8</th>\n",
              "      <td>2014-03-05</td>\n",
              "      <td>69.7267</td>\n",
              "      <td>70.2297</td>\n",
              "      <td>69.4916</td>\n",
              "      <td>69.9158</td>\n",
              "      <td>50065519</td>\n",
              "      <td>7152217</td>\n",
              "      <td>0.147093</td>\n",
              "      <td>0.211</td>\n",
              "      <td>71.9382</td>\n",
              "      <td>Mar 5, 14</td>\n",
              "      <td>0.013535</td>\n",
              "    </tr>\n",
              "    <tr>\n",
              "      <th>9</th>\n",
              "      <td>2014-03-06</td>\n",
              "      <td>69.9723</td>\n",
              "      <td>70.1890</td>\n",
              "      <td>69.3564</td>\n",
              "      <td>69.7044</td>\n",
              "      <td>46423111</td>\n",
              "      <td>6631873</td>\n",
              "      <td>-0.211448</td>\n",
              "      <td>-0.302</td>\n",
              "      <td>69.7696</td>\n",
              "      <td>Mar 6, 14</td>\n",
              "      <td>0.010471</td>\n",
              "    </tr>\n",
              "  </tbody>\n",
              "</table>\n",
              "</div>\n",
              "      <button class=\"colab-df-convert\" onclick=\"convertToInteractive('df-6b370d89-4f0c-43c4-afd8-7c0c9f217876')\"\n",
              "              title=\"Convert this dataframe to an interactive table.\"\n",
              "              style=\"display:none;\">\n",
              "        \n",
              "  <svg xmlns=\"http://www.w3.org/2000/svg\" height=\"24px\"viewBox=\"0 0 24 24\"\n",
              "       width=\"24px\">\n",
              "    <path d=\"M0 0h24v24H0V0z\" fill=\"none\"/>\n",
              "    <path d=\"M18.56 5.44l.94 2.06.94-2.06 2.06-.94-2.06-.94-.94-2.06-.94 2.06-2.06.94zm-11 1L8.5 8.5l.94-2.06 2.06-.94-2.06-.94L8.5 2.5l-.94 2.06-2.06.94zm10 10l.94 2.06.94-2.06 2.06-.94-2.06-.94-.94-2.06-.94 2.06-2.06.94z\"/><path d=\"M17.41 7.96l-1.37-1.37c-.4-.4-.92-.59-1.43-.59-.52 0-1.04.2-1.43.59L10.3 9.45l-7.72 7.72c-.78.78-.78 2.05 0 2.83L4 21.41c.39.39.9.59 1.41.59.51 0 1.02-.2 1.41-.59l7.78-7.78 2.81-2.81c.8-.78.8-2.07 0-2.86zM5.41 20L4 18.59l7.72-7.72 1.47 1.35L5.41 20z\"/>\n",
              "  </svg>\n",
              "      </button>\n",
              "      \n",
              "  <style>\n",
              "    .colab-df-container {\n",
              "      display:flex;\n",
              "      flex-wrap:wrap;\n",
              "      gap: 12px;\n",
              "    }\n",
              "\n",
              "    .colab-df-convert {\n",
              "      background-color: #E8F0FE;\n",
              "      border: none;\n",
              "      border-radius: 50%;\n",
              "      cursor: pointer;\n",
              "      display: none;\n",
              "      fill: #1967D2;\n",
              "      height: 32px;\n",
              "      padding: 0 0 0 0;\n",
              "      width: 32px;\n",
              "    }\n",
              "\n",
              "    .colab-df-convert:hover {\n",
              "      background-color: #E2EBFA;\n",
              "      box-shadow: 0px 1px 2px rgba(60, 64, 67, 0.3), 0px 1px 3px 1px rgba(60, 64, 67, 0.15);\n",
              "      fill: #174EA6;\n",
              "    }\n",
              "\n",
              "    [theme=dark] .colab-df-convert {\n",
              "      background-color: #3B4455;\n",
              "      fill: #D2E3FC;\n",
              "    }\n",
              "\n",
              "    [theme=dark] .colab-df-convert:hover {\n",
              "      background-color: #434B5C;\n",
              "      box-shadow: 0px 1px 3px 1px rgba(0, 0, 0, 0.15);\n",
              "      filter: drop-shadow(0px 1px 2px rgba(0, 0, 0, 0.3));\n",
              "      fill: #FFFFFF;\n",
              "    }\n",
              "  </style>\n",
              "\n",
              "      <script>\n",
              "        const buttonEl =\n",
              "          document.querySelector('#df-6b370d89-4f0c-43c4-afd8-7c0c9f217876 button.colab-df-convert');\n",
              "        buttonEl.style.display =\n",
              "          google.colab.kernel.accessAllowed ? 'block' : 'none';\n",
              "\n",
              "        async function convertToInteractive(key) {\n",
              "          const element = document.querySelector('#df-6b370d89-4f0c-43c4-afd8-7c0c9f217876');\n",
              "          const dataTable =\n",
              "            await google.colab.kernel.invokeFunction('convertToInteractive',\n",
              "                                                     [key], {});\n",
              "          if (!dataTable) return;\n",
              "\n",
              "          const docLinkHtml = 'Like what you see? Visit the ' +\n",
              "            '<a target=\"_blank\" href=https://colab.research.google.com/notebooks/data_table.ipynb>data table notebook</a>'\n",
              "            + ' to learn more about interactive tables.';\n",
              "          element.innerHTML = '';\n",
              "          dataTable['output_type'] = 'display_data';\n",
              "          await google.colab.output.renderOutput(dataTable, element);\n",
              "          const docLink = document.createElement('div');\n",
              "          docLink.innerHTML = docLinkHtml;\n",
              "          element.appendChild(docLink);\n",
              "        }\n",
              "      </script>\n",
              "    </div>\n",
              "  </div>\n",
              "  "
            ]
          },
          "metadata": {},
          "execution_count": 60
        }
      ]
    },
    {
      "cell_type": "markdown",
      "source": [],
      "metadata": {
        "id": "s87FwRQ_T4_t"
      }
    },
    {
      "cell_type": "code",
      "source": [
        "training_data = training_data.dropna()"
      ],
      "metadata": {
        "id": "fcaOAGPlUXef"
      },
      "execution_count": 61,
      "outputs": []
    },
    {
      "cell_type": "code",
      "source": [
        "training_data.shape"
      ],
      "metadata": {
        "colab": {
          "base_uri": "https://localhost:8080/"
        },
        "id": "cUL_8y9_Ufq-",
        "outputId": "0891e16a-8a04-4701-d9f6-8a9b5c5ca876"
      },
      "execution_count": 62,
      "outputs": [
        {
          "output_type": "execute_result",
          "data": {
            "text/plain": [
              "(1258, 12)"
            ]
          },
          "metadata": {},
          "execution_count": 62
        }
      ]
    },
    {
      "cell_type": "code",
      "source": [
        "training_data.info()"
      ],
      "metadata": {
        "colab": {
          "base_uri": "https://localhost:8080/"
        },
        "id": "syE-3gSaUjud",
        "outputId": "6a889273-5947-4892-8c35-d2e34b8da916"
      },
      "execution_count": 63,
      "outputs": [
        {
          "output_type": "stream",
          "name": "stdout",
          "text": [
            "<class 'pandas.core.frame.DataFrame'>\n",
            "Int64Index: 1258 entries, 0 to 1257\n",
            "Data columns (total 12 columns):\n",
            " #   Column            Non-Null Count  Dtype  \n",
            "---  ------            --------------  -----  \n",
            " 0   date              1258 non-null   object \n",
            " 1   open              1258 non-null   float64\n",
            " 2   high              1258 non-null   float64\n",
            " 3   low               1258 non-null   float64\n",
            " 4   close             1258 non-null   float64\n",
            " 5   volume            1258 non-null   int64  \n",
            " 6   unadjustedVolume  1258 non-null   int64  \n",
            " 7   change            1258 non-null   float64\n",
            " 8   changePercent     1258 non-null   float64\n",
            " 9   vwap              1258 non-null   float64\n",
            " 10  label             1258 non-null   object \n",
            " 11  changeOverTime    1258 non-null   float64\n",
            "dtypes: float64(8), int64(2), object(2)\n",
            "memory usage: 127.8+ KB\n"
          ]
        }
      ]
    },
    {
      "cell_type": "code",
      "source": [
        "training_data.hist(figsize=(15, 15));"
      ],
      "metadata": {
        "colab": {
          "base_uri": "https://localhost:8080/",
          "height": 879
        },
        "id": "OSfQlCo_UndR",
        "outputId": "697b083f-e960-44c1-8bc4-d3a2119824be"
      },
      "execution_count": 64,
      "outputs": [
        {
          "output_type": "display_data",
          "data": {
            "text/plain": [
              "<Figure size 1080x1080 with 12 Axes>"
            ],
            "image/png": "[encoded data removed]"
          },
          "metadata": {
            "needs_background": "light"
          }
        }
      ]
    },
    {
      "cell_type": "code",
      "source": [
        "training_data = training_data.drop(['date', 'label'], axis=1)"
      ],
      "metadata": {
        "id": "WkwFg-GsUvbo"
      },
      "execution_count": 65,
      "outputs": []
    },
    {
      "cell_type": "code",
      "source": [
        "training_data.head()"
      ],
      "metadata": {
        "colab": {
          "base_uri": "https://localhost:8080/",
          "height": 206
        },
        "id": "zRm7z7OEVJt2",
        "outputId": "a84683dd-8a5a-45c1-8916-59a99c7ce8e8"
      },
      "execution_count": 66,
      "outputs": [
        {
          "output_type": "execute_result",
          "data": {
            "text/plain": [
              "      open     high      low    close    volume  unadjustedVolume    change  \\\n",
              "0  69.9727  70.2061  68.8967  68.9821  69757247           9965321 -0.774858   \n",
              "1  68.7063  69.5954  68.6104  69.2841  72364950          10337850  0.302061   \n",
              "2  69.5245  69.5488  68.4239  68.5631  58247350           8321050 -0.721010   \n",
              "3  68.7667  68.9492  67.7147  67.9446  69131286           9875898 -0.618575   \n",
              "4  67.9170  69.4457  67.7738  69.2999  75557321          10793903  1.355300   \n",
              "\n",
              "   changePercent     vwap  changeOverTime  \n",
              "0         -1.111  69.4256        0.000000  \n",
              "1          0.438  69.1567        0.004378  \n",
              "2         -1.041  68.9153       -0.006074  \n",
              "3         -0.902  68.1373       -0.015040  \n",
              "4          1.995  68.8615        0.004607  "
            ],
            "text/html": [
              "\n",
              "  <div id=\"df-7872c6ea-b88b-4adc-a294-5a7491528cc9\">\n",
              "    <div class=\"colab-df-container\">\n",
              "      <div>\n",
              "<style scoped>\n",
              "    .dataframe tbody tr th:only-of-type {\n",
              "        vertical-align: middle;\n",
              "    }\n",
              "\n",
              "    .dataframe tbody tr th {\n",
              "        vertical-align: top;\n",
              "    }\n",
              "\n",
              "    .dataframe thead th {\n",
              "        text-align: right;\n",
              "    }\n",
              "</style>\n",
              "<table border=\"1\" class=\"dataframe\">\n",
              "  <thead>\n",
              "    <tr style=\"text-align: right;\">\n",
              "      <th></th>\n",
              "      <th>open</th>\n",
              "      <th>high</th>\n",
              "      <th>low</th>\n",
              "      <th>close</th>\n",
              "      <th>volume</th>\n",
              "      <th>unadjustedVolume</th>\n",
              "      <th>change</th>\n",
              "      <th>changePercent</th>\n",
              "      <th>vwap</th>\n",
              "      <th>changeOverTime</th>\n",
              "    </tr>\n",
              "  </thead>\n",
              "  <tbody>\n",
              "    <tr>\n",
              "      <th>0</th>\n",
              "      <td>69.9727</td>\n",
              "      <td>70.2061</td>\n",
              "      <td>68.8967</td>\n",
              "      <td>68.9821</td>\n",
              "      <td>69757247</td>\n",
              "      <td>9965321</td>\n",
              "      <td>-0.774858</td>\n",
              "      <td>-1.111</td>\n",
              "      <td>69.4256</td>\n",
              "      <td>0.000000</td>\n",
              "    </tr>\n",
              "    <tr>\n",
              "      <th>1</th>\n",
              "      <td>68.7063</td>\n",
              "      <td>69.5954</td>\n",
              "      <td>68.6104</td>\n",
              "      <td>69.2841</td>\n",
              "      <td>72364950</td>\n",
              "      <td>10337850</td>\n",
              "      <td>0.302061</td>\n",
              "      <td>0.438</td>\n",
              "      <td>69.1567</td>\n",
              "      <td>0.004378</td>\n",
              "    </tr>\n",
              "    <tr>\n",
              "      <th>2</th>\n",
              "      <td>69.5245</td>\n",
              "      <td>69.5488</td>\n",
              "      <td>68.4239</td>\n",
              "      <td>68.5631</td>\n",
              "      <td>58247350</td>\n",
              "      <td>8321050</td>\n",
              "      <td>-0.721010</td>\n",
              "      <td>-1.041</td>\n",
              "      <td>68.9153</td>\n",
              "      <td>-0.006074</td>\n",
              "    </tr>\n",
              "    <tr>\n",
              "      <th>3</th>\n",
              "      <td>68.7667</td>\n",
              "      <td>68.9492</td>\n",
              "      <td>67.7147</td>\n",
              "      <td>67.9446</td>\n",
              "      <td>69131286</td>\n",
              "      <td>9875898</td>\n",
              "      <td>-0.618575</td>\n",
              "      <td>-0.902</td>\n",
              "      <td>68.1373</td>\n",
              "      <td>-0.015040</td>\n",
              "    </tr>\n",
              "    <tr>\n",
              "      <th>4</th>\n",
              "      <td>67.9170</td>\n",
              "      <td>69.4457</td>\n",
              "      <td>67.7738</td>\n",
              "      <td>69.2999</td>\n",
              "      <td>75557321</td>\n",
              "      <td>10793903</td>\n",
              "      <td>1.355300</td>\n",
              "      <td>1.995</td>\n",
              "      <td>68.8615</td>\n",
              "      <td>0.004607</td>\n",
              "    </tr>\n",
              "  </tbody>\n",
              "</table>\n",
              "</div>\n",
              "      <button class=\"colab-df-convert\" onclick=\"convertToInteractive('df-7872c6ea-b88b-4adc-a294-5a7491528cc9')\"\n",
              "              title=\"Convert this dataframe to an interactive table.\"\n",
              "              style=\"display:none;\">\n",
              "        \n",
              "  <svg xmlns=\"http://www.w3.org/2000/svg\" height=\"24px\"viewBox=\"0 0 24 24\"\n",
              "       width=\"24px\">\n",
              "    <path d=\"M0 0h24v24H0V0z\" fill=\"none\"/>\n",
              "    <path d=\"M18.56 5.44l.94 2.06.94-2.06 2.06-.94-2.06-.94-.94-2.06-.94 2.06-2.06.94zm-11 1L8.5 8.5l.94-2.06 2.06-.94-2.06-.94L8.5 2.5l-.94 2.06-2.06.94zm10 10l.94 2.06.94-2.06 2.06-.94-2.06-.94-.94-2.06-.94 2.06-2.06.94z\"/><path d=\"M17.41 7.96l-1.37-1.37c-.4-.4-.92-.59-1.43-.59-.52 0-1.04.2-1.43.59L10.3 9.45l-7.72 7.72c-.78.78-.78 2.05 0 2.83L4 21.41c.39.39.9.59 1.41.59.51 0 1.02-.2 1.41-.59l7.78-7.78 2.81-2.81c.8-.78.8-2.07 0-2.86zM5.41 20L4 18.59l7.72-7.72 1.47 1.35L5.41 20z\"/>\n",
              "  </svg>\n",
              "      </button>\n",
              "      \n",
              "  <style>\n",
              "    .colab-df-container {\n",
              "      display:flex;\n",
              "      flex-wrap:wrap;\n",
              "      gap: 12px;\n",
              "    }\n",
              "\n",
              "    .colab-df-convert {\n",
              "      background-color: #E8F0FE;\n",
              "      border: none;\n",
              "      border-radius: 50%;\n",
              "      cursor: pointer;\n",
              "      display: none;\n",
              "      fill: #1967D2;\n",
              "      height: 32px;\n",
              "      padding: 0 0 0 0;\n",
              "      width: 32px;\n",
              "    }\n",
              "\n",
              "    .colab-df-convert:hover {\n",
              "      background-color: #E2EBFA;\n",
              "      box-shadow: 0px 1px 2px rgba(60, 64, 67, 0.3), 0px 1px 3px 1px rgba(60, 64, 67, 0.15);\n",
              "      fill: #174EA6;\n",
              "    }\n",
              "\n",
              "    [theme=dark] .colab-df-convert {\n",
              "      background-color: #3B4455;\n",
              "      fill: #D2E3FC;\n",
              "    }\n",
              "\n",
              "    [theme=dark] .colab-df-convert:hover {\n",
              "      background-color: #434B5C;\n",
              "      box-shadow: 0px 1px 3px 1px rgba(0, 0, 0, 0.15);\n",
              "      filter: drop-shadow(0px 1px 2px rgba(0, 0, 0, 0.3));\n",
              "      fill: #FFFFFF;\n",
              "    }\n",
              "  </style>\n",
              "\n",
              "      <script>\n",
              "        const buttonEl =\n",
              "          document.querySelector('#df-7872c6ea-b88b-4adc-a294-5a7491528cc9 button.colab-df-convert');\n",
              "        buttonEl.style.display =\n",
              "          google.colab.kernel.accessAllowed ? 'block' : 'none';\n",
              "\n",
              "        async function convertToInteractive(key) {\n",
              "          const element = document.querySelector('#df-7872c6ea-b88b-4adc-a294-5a7491528cc9');\n",
              "          const dataTable =\n",
              "            await google.colab.kernel.invokeFunction('convertToInteractive',\n",
              "                                                     [key], {});\n",
              "          if (!dataTable) return;\n",
              "\n",
              "          const docLinkHtml = 'Like what you see? Visit the ' +\n",
              "            '<a target=\"_blank\" href=https://colab.research.google.com/notebooks/data_table.ipynb>data table notebook</a>'\n",
              "            + ' to learn more about interactive tables.';\n",
              "          element.innerHTML = '';\n",
              "          dataTable['output_type'] = 'display_data';\n",
              "          await google.colab.output.renderOutput(dataTable, element);\n",
              "          const docLink = document.createElement('div');\n",
              "          docLink.innerHTML = docLinkHtml;\n",
              "          element.appendChild(docLink);\n",
              "        }\n",
              "      </script>\n",
              "    </div>\n",
              "  </div>\n",
              "  "
            ]
          },
          "metadata": {},
          "execution_count": 66
        }
      ]
    },
    {
      "cell_type": "code",
      "source": [
        "training_values = training_data['vwap']"
      ],
      "metadata": {
        "id": "haFAMsruVZAk"
      },
      "execution_count": 67,
      "outputs": []
    },
    {
      "cell_type": "code",
      "source": [
        "training_points = training_data.drop('vwap', axis=1)"
      ],
      "metadata": {
        "id": "sdyzDYiFVdfX"
      },
      "execution_count": 68,
      "outputs": []
    },
    {
      "cell_type": "code",
      "source": [
        "training_points.head()"
      ],
      "metadata": {
        "colab": {
          "base_uri": "https://localhost:8080/",
          "height": 206
        },
        "id": "hGS5yFTOVhv3",
        "outputId": "2dc2e869-aba3-4876-dc81-b62fc138060d"
      },
      "execution_count": 69,
      "outputs": [
        {
          "output_type": "execute_result",
          "data": {
            "text/plain": [
              "      open     high      low    close    volume  unadjustedVolume    change  \\\n",
              "0  69.9727  70.2061  68.8967  68.9821  69757247           9965321 -0.774858   \n",
              "1  68.7063  69.5954  68.6104  69.2841  72364950          10337850  0.302061   \n",
              "2  69.5245  69.5488  68.4239  68.5631  58247350           8321050 -0.721010   \n",
              "3  68.7667  68.9492  67.7147  67.9446  69131286           9875898 -0.618575   \n",
              "4  67.9170  69.4457  67.7738  69.2999  75557321          10793903  1.355300   \n",
              "\n",
              "   changePercent  changeOverTime  \n",
              "0         -1.111        0.000000  \n",
              "1          0.438        0.004378  \n",
              "2         -1.041       -0.006074  \n",
              "3         -0.902       -0.015040  \n",
              "4          1.995        0.004607  "
            ],
            "text/html": [
              "\n",
              "  <div id=\"df-d8bca6cf-ffe6-490c-8061-d9482d04d9f8\">\n",
              "    <div class=\"colab-df-container\">\n",
              "      <div>\n",
              "<style scoped>\n",
              "    .dataframe tbody tr th:only-of-type {\n",
              "        vertical-align: middle;\n",
              "    }\n",
              "\n",
              "    .dataframe tbody tr th {\n",
              "        vertical-align: top;\n",
              "    }\n",
              "\n",
              "    .dataframe thead th {\n",
              "        text-align: right;\n",
              "    }\n",
              "</style>\n",
              "<table border=\"1\" class=\"dataframe\">\n",
              "  <thead>\n",
              "    <tr style=\"text-align: right;\">\n",
              "      <th></th>\n",
              "      <th>open</th>\n",
              "      <th>high</th>\n",
              "      <th>low</th>\n",
              "      <th>close</th>\n",
              "      <th>volume</th>\n",
              "      <th>unadjustedVolume</th>\n",
              "      <th>change</th>\n",
              "      <th>changePercent</th>\n",
              "      <th>changeOverTime</th>\n",
              "    </tr>\n",
              "  </thead>\n",
              "  <tbody>\n",
              "    <tr>\n",
              "      <th>0</th>\n",
              "      <td>69.9727</td>\n",
              "      <td>70.2061</td>\n",
              "      <td>68.8967</td>\n",
              "      <td>68.9821</td>\n",
              "      <td>69757247</td>\n",
              "      <td>9965321</td>\n",
              "      <td>-0.774858</td>\n",
              "      <td>-1.111</td>\n",
              "      <td>0.000000</td>\n",
              "    </tr>\n",
              "    <tr>\n",
              "      <th>1</th>\n",
              "      <td>68.7063</td>\n",
              "      <td>69.5954</td>\n",
              "      <td>68.6104</td>\n",
              "      <td>69.2841</td>\n",
              "      <td>72364950</td>\n",
              "      <td>10337850</td>\n",
              "      <td>0.302061</td>\n",
              "      <td>0.438</td>\n",
              "      <td>0.004378</td>\n",
              "    </tr>\n",
              "    <tr>\n",
              "      <th>2</th>\n",
              "      <td>69.5245</td>\n",
              "      <td>69.5488</td>\n",
              "      <td>68.4239</td>\n",
              "      <td>68.5631</td>\n",
              "      <td>58247350</td>\n",
              "      <td>8321050</td>\n",
              "      <td>-0.721010</td>\n",
              "      <td>-1.041</td>\n",
              "      <td>-0.006074</td>\n",
              "    </tr>\n",
              "    <tr>\n",
              "      <th>3</th>\n",
              "      <td>68.7667</td>\n",
              "      <td>68.9492</td>\n",
              "      <td>67.7147</td>\n",
              "      <td>67.9446</td>\n",
              "      <td>69131286</td>\n",
              "      <td>9875898</td>\n",
              "      <td>-0.618575</td>\n",
              "      <td>-0.902</td>\n",
              "      <td>-0.015040</td>\n",
              "    </tr>\n",
              "    <tr>\n",
              "      <th>4</th>\n",
              "      <td>67.9170</td>\n",
              "      <td>69.4457</td>\n",
              "      <td>67.7738</td>\n",
              "      <td>69.2999</td>\n",
              "      <td>75557321</td>\n",
              "      <td>10793903</td>\n",
              "      <td>1.355300</td>\n",
              "      <td>1.995</td>\n",
              "      <td>0.004607</td>\n",
              "    </tr>\n",
              "  </tbody>\n",
              "</table>\n",
              "</div>\n",
              "      <button class=\"colab-df-convert\" onclick=\"convertToInteractive('df-d8bca6cf-ffe6-490c-8061-d9482d04d9f8')\"\n",
              "              title=\"Convert this dataframe to an interactive table.\"\n",
              "              style=\"display:none;\">\n",
              "        \n",
              "  <svg xmlns=\"http://www.w3.org/2000/svg\" height=\"24px\"viewBox=\"0 0 24 24\"\n",
              "       width=\"24px\">\n",
              "    <path d=\"M0 0h24v24H0V0z\" fill=\"none\"/>\n",
              "    <path d=\"M18.56 5.44l.94 2.06.94-2.06 2.06-.94-2.06-.94-.94-2.06-.94 2.06-2.06.94zm-11 1L8.5 8.5l.94-2.06 2.06-.94-2.06-.94L8.5 2.5l-.94 2.06-2.06.94zm10 10l.94 2.06.94-2.06 2.06-.94-2.06-.94-.94-2.06-.94 2.06-2.06.94z\"/><path d=\"M17.41 7.96l-1.37-1.37c-.4-.4-.92-.59-1.43-.59-.52 0-1.04.2-1.43.59L10.3 9.45l-7.72 7.72c-.78.78-.78 2.05 0 2.83L4 21.41c.39.39.9.59 1.41.59.51 0 1.02-.2 1.41-.59l7.78-7.78 2.81-2.81c.8-.78.8-2.07 0-2.86zM5.41 20L4 18.59l7.72-7.72 1.47 1.35L5.41 20z\"/>\n",
              "  </svg>\n",
              "      </button>\n",
              "      \n",
              "  <style>\n",
              "    .colab-df-container {\n",
              "      display:flex;\n",
              "      flex-wrap:wrap;\n",
              "      gap: 12px;\n",
              "    }\n",
              "\n",
              "    .colab-df-convert {\n",
              "      background-color: #E8F0FE;\n",
              "      border: none;\n",
              "      border-radius: 50%;\n",
              "      cursor: pointer;\n",
              "      display: none;\n",
              "      fill: #1967D2;\n",
              "      height: 32px;\n",
              "      padding: 0 0 0 0;\n",
              "      width: 32px;\n",
              "    }\n",
              "\n",
              "    .colab-df-convert:hover {\n",
              "      background-color: #E2EBFA;\n",
              "      box-shadow: 0px 1px 2px rgba(60, 64, 67, 0.3), 0px 1px 3px 1px rgba(60, 64, 67, 0.15);\n",
              "      fill: #174EA6;\n",
              "    }\n",
              "\n",
              "    [theme=dark] .colab-df-convert {\n",
              "      background-color: #3B4455;\n",
              "      fill: #D2E3FC;\n",
              "    }\n",
              "\n",
              "    [theme=dark] .colab-df-convert:hover {\n",
              "      background-color: #434B5C;\n",
              "      box-shadow: 0px 1px 3px 1px rgba(0, 0, 0, 0.15);\n",
              "      filter: drop-shadow(0px 1px 2px rgba(0, 0, 0, 0.3));\n",
              "      fill: #FFFFFF;\n",
              "    }\n",
              "  </style>\n",
              "\n",
              "      <script>\n",
              "        const buttonEl =\n",
              "          document.querySelector('#df-d8bca6cf-ffe6-490c-8061-d9482d04d9f8 button.colab-df-convert');\n",
              "        buttonEl.style.display =\n",
              "          google.colab.kernel.accessAllowed ? 'block' : 'none';\n",
              "\n",
              "        async function convertToInteractive(key) {\n",
              "          const element = document.querySelector('#df-d8bca6cf-ffe6-490c-8061-d9482d04d9f8');\n",
              "          const dataTable =\n",
              "            await google.colab.kernel.invokeFunction('convertToInteractive',\n",
              "                                                     [key], {});\n",
              "          if (!dataTable) return;\n",
              "\n",
              "          const docLinkHtml = 'Like what you see? Visit the ' +\n",
              "            '<a target=\"_blank\" href=https://colab.research.google.com/notebooks/data_table.ipynb>data table notebook</a>'\n",
              "            + ' to learn more about interactive tables.';\n",
              "          element.innerHTML = '';\n",
              "          dataTable['output_type'] = 'display_data';\n",
              "          await google.colab.output.renderOutput(dataTable, element);\n",
              "          const docLink = document.createElement('div');\n",
              "          docLink.innerHTML = docLinkHtml;\n",
              "          element.appendChild(docLink);\n",
              "        }\n",
              "      </script>\n",
              "    </div>\n",
              "  </div>\n",
              "  "
            ]
          },
          "metadata": {},
          "execution_count": 69
        }
      ]
    },
    {
      "cell_type": "code",
      "source": [
        "training_points.shape"
      ],
      "metadata": {
        "colab": {
          "base_uri": "https://localhost:8080/"
        },
        "id": "Pau8mLHLWQ4V",
        "outputId": "6ebd32ec-a445-41df-80bd-d371b468b60e"
      },
      "execution_count": 70,
      "outputs": [
        {
          "output_type": "execute_result",
          "data": {
            "text/plain": [
              "(1258, 9)"
            ]
          },
          "metadata": {},
          "execution_count": 70
        }
      ]
    },
    {
      "cell_type": "code",
      "source": [
        "from sklearn import linear_model, ensemble"
      ],
      "metadata": {
        "id": "wZU1InnHWgSz"
      },
      "execution_count": 71,
      "outputs": []
    },
    {
      "cell_type": "code",
      "source": [
        "linear_regression_model = linear_model.LinearRegression()"
      ],
      "metadata": {
        "id": "PIvB_im5WjFf"
      },
      "execution_count": 72,
      "outputs": []
    },
    {
      "cell_type": "code",
      "source": [
        "random_forest_model = ensemble.RandomForestRegressor(random_state=123)"
      ],
      "metadata": {
        "id": "xlv7UfpoWmXB"
      },
      "execution_count": 73,
      "outputs": []
    },
    {
      "cell_type": "code",
      "source": [
        "linear_regression_model.fit(training_points, training_values)"
      ],
      "metadata": {
        "colab": {
          "base_uri": "https://localhost:8080/"
        },
        "id": "I6TmEZZqWqrI",
        "outputId": "3eb5143b-f705-4622-9dba-9c334a29cff1"
      },
      "execution_count": 74,
      "outputs": [
        {
          "output_type": "execute_result",
          "data": {
            "text/plain": [
              "LinearRegression()"
            ]
          },
          "metadata": {},
          "execution_count": 74
        }
      ]
    },
    {
      "cell_type": "code",
      "source": [
        "random_forest_model.fit(training_points, training_values)"
      ],
      "metadata": {
        "colab": {
          "base_uri": "https://localhost:8080/"
        },
        "id": "8xNIMf0yWwZ4",
        "outputId": "237d4758-6c0c-41f7-9924-41bb00159874"
      },
      "execution_count": 75,
      "outputs": [
        {
          "output_type": "execute_result",
          "data": {
            "text/plain": [
              "RandomForestRegressor(random_state=123)"
            ]
          },
          "metadata": {},
          "execution_count": 75
        }
      ]
    },
    {
      "cell_type": "code",
      "source": [
        "test_data = pd.read_csv('AAPL.csv')"
      ],
      "metadata": {
        "id": "ZFyDPVdBW1KF"
      },
      "execution_count": 76,
      "outputs": []
    },
    {
      "cell_type": "code",
      "source": [
        "test_data.head(8)"
      ],
      "metadata": {
        "colab": {
          "base_uri": "https://localhost:8080/",
          "height": 300
        },
        "id": "pLXYHeJJW8OC",
        "outputId": "61011bad-3408-4554-c148-ac984751fb8a"
      },
      "execution_count": 77,
      "outputs": [
        {
          "output_type": "execute_result",
          "data": {
            "text/plain": [
              "         date     open     high      low    close    volume  unadjustedVolume  \\\n",
              "0  2014-02-21  69.9727  70.2061  68.8967  68.9821  69757247           9965321   \n",
              "1  2014-02-24  68.7063  69.5954  68.6104  69.2841  72364950          10337850   \n",
              "2  2014-02-25  69.5245  69.5488  68.4239  68.5631  58247350           8321050   \n",
              "3  2014-02-26  68.7667  68.9492  67.7147  67.9446  69131286           9875898   \n",
              "4  2014-02-27  67.9170  69.4457  67.7738  69.2999  75557321          10793903   \n",
              "5  2014-02-28  69.4851  69.9671  68.5710  69.1121  93074653          13296379   \n",
              "6  2014-03-03  68.7417  69.6913  68.6616  69.3117  59667923           8523989   \n",
              "7  2014-03-04  69.7372  69.9526  69.3130  69.7688  64884834           9269262   \n",
              "\n",
              "     change  changePercent     vwap       label  changeOverTime  \n",
              "0 -0.774858         -1.111  69.4256  Feb 21, 14        0.000000  \n",
              "1  0.302061          0.438  69.1567  Feb 24, 14        0.004378  \n",
              "2 -0.721010         -1.041  68.9153  Feb 25, 14       -0.006074  \n",
              "3 -0.618575         -0.902  68.1373  Feb 26, 14       -0.015040  \n",
              "4  1.355300          1.995  68.8615  Feb 27, 14        0.004607  \n",
              "5 -0.187807         -0.271  69.2731  Feb 28, 14        0.001885  \n",
              "6  0.199626          0.289  69.1371   Mar 3, 14        0.004778  \n",
              "7  0.457035          0.659  69.6940   Mar 4, 14        0.011404  "
            ],
            "text/html": [
              "\n",
              "  <div id=\"df-c681ec4d-ae76-44c4-a5a0-a283bbe58597\">\n",
              "    <div class=\"colab-df-container\">\n",
              "      <div>\n",
              "<style scoped>\n",
              "    .dataframe tbody tr th:only-of-type {\n",
              "        vertical-align: middle;\n",
              "    }\n",
              "\n",
              "    .dataframe tbody tr th {\n",
              "        vertical-align: top;\n",
              "    }\n",
              "\n",
              "    .dataframe thead th {\n",
              "        text-align: right;\n",
              "    }\n",
              "</style>\n",
              "<table border=\"1\" class=\"dataframe\">\n",
              "  <thead>\n",
              "    <tr style=\"text-align: right;\">\n",
              "      <th></th>\n",
              "      <th>date</th>\n",
              "      <th>open</th>\n",
              "      <th>high</th>\n",
              "      <th>low</th>\n",
              "      <th>close</th>\n",
              "      <th>volume</th>\n",
              "      <th>unadjustedVolume</th>\n",
              "      <th>change</th>\n",
              "      <th>changePercent</th>\n",
              "      <th>vwap</th>\n",
              "      <th>label</th>\n",
              "      <th>changeOverTime</th>\n",
              "    </tr>\n",
              "  </thead>\n",
              "  <tbody>\n",
              "    <tr>\n",
              "      <th>0</th>\n",
              "      <td>2014-02-21</td>\n",
              "      <td>69.9727</td>\n",
              "      <td>70.2061</td>\n",
              "      <td>68.8967</td>\n",
              "      <td>68.9821</td>\n",
              "      <td>69757247</td>\n",
              "      <td>9965321</td>\n",
              "      <td>-0.774858</td>\n",
              "      <td>-1.111</td>\n",
              "      <td>69.4256</td>\n",
              "      <td>Feb 21, 14</td>\n",
              "      <td>0.000000</td>\n",
              "    </tr>\n",
              "    <tr>\n",
              "      <th>1</th>\n",
              "      <td>2014-02-24</td>\n",
              "      <td>68.7063</td>\n",
              "      <td>69.5954</td>\n",
              "      <td>68.6104</td>\n",
              "      <td>69.2841</td>\n",
              "      <td>72364950</td>\n",
              "      <td>10337850</td>\n",
              "      <td>0.302061</td>\n",
              "      <td>0.438</td>\n",
              "      <td>69.1567</td>\n",
              "      <td>Feb 24, 14</td>\n",
              "      <td>0.004378</td>\n",
              "    </tr>\n",
              "    <tr>\n",
              "      <th>2</th>\n",
              "      <td>2014-02-25</td>\n",
              "      <td>69.5245</td>\n",
              "      <td>69.5488</td>\n",
              "      <td>68.4239</td>\n",
              "      <td>68.5631</td>\n",
              "      <td>58247350</td>\n",
              "      <td>8321050</td>\n",
              "      <td>-0.721010</td>\n",
              "      <td>-1.041</td>\n",
              "      <td>68.9153</td>\n",
              "      <td>Feb 25, 14</td>\n",
              "      <td>-0.006074</td>\n",
              "    </tr>\n",
              "    <tr>\n",
              "      <th>3</th>\n",
              "      <td>2014-02-26</td>\n",
              "      <td>68.7667</td>\n",
              "      <td>68.9492</td>\n",
              "      <td>67.7147</td>\n",
              "      <td>67.9446</td>\n",
              "      <td>69131286</td>\n",
              "      <td>9875898</td>\n",
              "      <td>-0.618575</td>\n",
              "      <td>-0.902</td>\n",
              "      <td>68.1373</td>\n",
              "      <td>Feb 26, 14</td>\n",
              "      <td>-0.015040</td>\n",
              "    </tr>\n",
              "    <tr>\n",
              "      <th>4</th>\n",
              "      <td>2014-02-27</td>\n",
              "      <td>67.9170</td>\n",
              "      <td>69.4457</td>\n",
              "      <td>67.7738</td>\n",
              "      <td>69.2999</td>\n",
              "      <td>75557321</td>\n",
              "      <td>10793903</td>\n",
              "      <td>1.355300</td>\n",
              "      <td>1.995</td>\n",
              "      <td>68.8615</td>\n",
              "      <td>Feb 27, 14</td>\n",
              "      <td>0.004607</td>\n",
              "    </tr>\n",
              "    <tr>\n",
              "      <th>5</th>\n",
              "      <td>2014-02-28</td>\n",
              "      <td>69.4851</td>\n",
              "      <td>69.9671</td>\n",
              "      <td>68.5710</td>\n",
              "      <td>69.1121</td>\n",
              "      <td>93074653</td>\n",
              "      <td>13296379</td>\n",
              "      <td>-0.187807</td>\n",
              "      <td>-0.271</td>\n",
              "      <td>69.2731</td>\n",
              "      <td>Feb 28, 14</td>\n",
              "      <td>0.001885</td>\n",
              "    </tr>\n",
              "    <tr>\n",
              "      <th>6</th>\n",
              "      <td>2014-03-03</td>\n",
              "      <td>68.7417</td>\n",
              "      <td>69.6913</td>\n",
              "      <td>68.6616</td>\n",
              "      <td>69.3117</td>\n",
              "      <td>59667923</td>\n",
              "      <td>8523989</td>\n",
              "      <td>0.199626</td>\n",
              "      <td>0.289</td>\n",
              "      <td>69.1371</td>\n",
              "      <td>Mar 3, 14</td>\n",
              "      <td>0.004778</td>\n",
              "    </tr>\n",
              "    <tr>\n",
              "      <th>7</th>\n",
              "      <td>2014-03-04</td>\n",
              "      <td>69.7372</td>\n",
              "      <td>69.9526</td>\n",
              "      <td>69.3130</td>\n",
              "      <td>69.7688</td>\n",
              "      <td>64884834</td>\n",
              "      <td>9269262</td>\n",
              "      <td>0.457035</td>\n",
              "      <td>0.659</td>\n",
              "      <td>69.6940</td>\n",
              "      <td>Mar 4, 14</td>\n",
              "      <td>0.011404</td>\n",
              "    </tr>\n",
              "  </tbody>\n",
              "</table>\n",
              "</div>\n",
              "      <button class=\"colab-df-convert\" onclick=\"convertToInteractive('df-c681ec4d-ae76-44c4-a5a0-a283bbe58597')\"\n",
              "              title=\"Convert this dataframe to an interactive table.\"\n",
              "              style=\"display:none;\">\n",
              "        \n",
              "  <svg xmlns=\"http://www.w3.org/2000/svg\" height=\"24px\"viewBox=\"0 0 24 24\"\n",
              "       width=\"24px\">\n",
              "    <path d=\"M0 0h24v24H0V0z\" fill=\"none\"/>\n",
              "    <path d=\"M18.56 5.44l.94 2.06.94-2.06 2.06-.94-2.06-.94-.94-2.06-.94 2.06-2.06.94zm-11 1L8.5 8.5l.94-2.06 2.06-.94-2.06-.94L8.5 2.5l-.94 2.06-2.06.94zm10 10l.94 2.06.94-2.06 2.06-.94-2.06-.94-.94-2.06-.94 2.06-2.06.94z\"/><path d=\"M17.41 7.96l-1.37-1.37c-.4-.4-.92-.59-1.43-.59-.52 0-1.04.2-1.43.59L10.3 9.45l-7.72 7.72c-.78.78-.78 2.05 0 2.83L4 21.41c.39.39.9.59 1.41.59.51 0 1.02-.2 1.41-.59l7.78-7.78 2.81-2.81c.8-.78.8-2.07 0-2.86zM5.41 20L4 18.59l7.72-7.72 1.47 1.35L5.41 20z\"/>\n",
              "  </svg>\n",
              "      </button>\n",
              "      \n",
              "  <style>\n",
              "    .colab-df-container {\n",
              "      display:flex;\n",
              "      flex-wrap:wrap;\n",
              "      gap: 12px;\n",
              "    }\n",
              "\n",
              "    .colab-df-convert {\n",
              "      background-color: #E8F0FE;\n",
              "      border: none;\n",
              "      border-radius: 50%;\n",
              "      cursor: pointer;\n",
              "      display: none;\n",
              "      fill: #1967D2;\n",
              "      height: 32px;\n",
              "      padding: 0 0 0 0;\n",
              "      width: 32px;\n",
              "    }\n",
              "\n",
              "    .colab-df-convert:hover {\n",
              "      background-color: #E2EBFA;\n",
              "      box-shadow: 0px 1px 2px rgba(60, 64, 67, 0.3), 0px 1px 3px 1px rgba(60, 64, 67, 0.15);\n",
              "      fill: #174EA6;\n",
              "    }\n",
              "\n",
              "    [theme=dark] .colab-df-convert {\n",
              "      background-color: #3B4455;\n",
              "      fill: #D2E3FC;\n",
              "    }\n",
              "\n",
              "    [theme=dark] .colab-df-convert:hover {\n",
              "      background-color: #434B5C;\n",
              "      box-shadow: 0px 1px 3px 1px rgba(0, 0, 0, 0.15);\n",
              "      filter: drop-shadow(0px 1px 2px rgba(0, 0, 0, 0.3));\n",
              "      fill: #FFFFFF;\n",
              "    }\n",
              "  </style>\n",
              "\n",
              "      <script>\n",
              "        const buttonEl =\n",
              "          document.querySelector('#df-c681ec4d-ae76-44c4-a5a0-a283bbe58597 button.colab-df-convert');\n",
              "        buttonEl.style.display =\n",
              "          google.colab.kernel.accessAllowed ? 'block' : 'none';\n",
              "\n",
              "        async function convertToInteractive(key) {\n",
              "          const element = document.querySelector('#df-c681ec4d-ae76-44c4-a5a0-a283bbe58597');\n",
              "          const dataTable =\n",
              "            await google.colab.kernel.invokeFunction('convertToInteractive',\n",
              "                                                     [key], {});\n",
              "          if (!dataTable) return;\n",
              "\n",
              "          const docLinkHtml = 'Like what you see? Visit the ' +\n",
              "            '<a target=\"_blank\" href=https://colab.research.google.com/notebooks/data_table.ipynb>data table notebook</a>'\n",
              "            + ' to learn more about interactive tables.';\n",
              "          element.innerHTML = '';\n",
              "          dataTable['output_type'] = 'display_data';\n",
              "          await google.colab.output.renderOutput(dataTable, element);\n",
              "          const docLink = document.createElement('div');\n",
              "          docLink.innerHTML = docLinkHtml;\n",
              "          element.appendChild(docLink);\n",
              "        }\n",
              "      </script>\n",
              "    </div>\n",
              "  </div>\n",
              "  "
            ]
          },
          "metadata": {},
          "execution_count": 77
        }
      ]
    },
    {
      "cell_type": "code",
      "source": [
        "test_data.shape"
      ],
      "metadata": {
        "colab": {
          "base_uri": "https://localhost:8080/"
        },
        "id": "vPrcjqatXExv",
        "outputId": "2fd3bf59-bae9-415a-8d5b-fea007b14eaf"
      },
      "execution_count": 78,
      "outputs": [
        {
          "output_type": "execute_result",
          "data": {
            "text/plain": [
              "(1258, 12)"
            ]
          },
          "metadata": {},
          "execution_count": 78
        }
      ]
    },
    {
      "cell_type": "code",
      "source": [
        "test_data.info()"
      ],
      "metadata": {
        "colab": {
          "base_uri": "https://localhost:8080/"
        },
        "id": "TZ0Ld3o2XIE1",
        "outputId": "6362c4f0-1b39-4f61-ea72-1665184fba08"
      },
      "execution_count": 79,
      "outputs": [
        {
          "output_type": "stream",
          "name": "stdout",
          "text": [
            "<class 'pandas.core.frame.DataFrame'>\n",
            "RangeIndex: 1258 entries, 0 to 1257\n",
            "Data columns (total 12 columns):\n",
            " #   Column            Non-Null Count  Dtype  \n",
            "---  ------            --------------  -----  \n",
            " 0   date              1258 non-null   object \n",
            " 1   open              1258 non-null   float64\n",
            " 2   high              1258 non-null   float64\n",
            " 3   low               1258 non-null   float64\n",
            " 4   close             1258 non-null   float64\n",
            " 5   volume            1258 non-null   int64  \n",
            " 6   unadjustedVolume  1258 non-null   int64  \n",
            " 7   change            1258 non-null   float64\n",
            " 8   changePercent     1258 non-null   float64\n",
            " 9   vwap              1258 non-null   float64\n",
            " 10  label             1258 non-null   object \n",
            " 11  changeOverTime    1258 non-null   float64\n",
            "dtypes: float64(8), int64(2), object(2)\n",
            "memory usage: 118.1+ KB\n"
          ]
        }
      ]
    },
    {
      "cell_type": "code",
      "source": [
        "test_data = test_data.dropna()"
      ],
      "metadata": {
        "id": "MTvyX5AsXLdM"
      },
      "execution_count": 80,
      "outputs": []
    },
    {
      "cell_type": "code",
      "source": [
        "test_data = test_data.drop(['date', 'label'], axis=1)"
      ],
      "metadata": {
        "id": "-BrpfFLMXQjS"
      },
      "execution_count": 81,
      "outputs": []
    },
    {
      "cell_type": "code",
      "source": [
        "test_data.shape"
      ],
      "metadata": {
        "colab": {
          "base_uri": "https://localhost:8080/"
        },
        "id": "PnqXzGc4XZzH",
        "outputId": "95ecd002-199b-4abe-f5d1-6aa2e909a19b"
      },
      "execution_count": 82,
      "outputs": [
        {
          "output_type": "execute_result",
          "data": {
            "text/plain": [
              "(1258, 10)"
            ]
          },
          "metadata": {},
          "execution_count": 82
        }
      ]
    },
    {
      "cell_type": "code",
      "source": [
        "test_values = test_data['close']"
      ],
      "metadata": {
        "id": "PJo90Cs1Xht9"
      },
      "execution_count": 83,
      "outputs": []
    },
    {
      "cell_type": "code",
      "source": [
        "test_points = test_data.drop('close', axis=1)"
      ],
      "metadata": {
        "id": "8lmYuh-wYgRs"
      },
      "execution_count": 84,
      "outputs": []
    },
    {
      "cell_type": "code",
      "source": [
        "test_points.head()"
      ],
      "metadata": {
        "colab": {
          "base_uri": "https://localhost:8080/",
          "height": 206
        },
        "id": "Oj653W3wYm_s",
        "outputId": "2ecee4e3-6cef-4765-fc3c-4fa9d51da147"
      },
      "execution_count": 85,
      "outputs": [
        {
          "output_type": "execute_result",
          "data": {
            "text/plain": [
              "      open     high      low    volume  unadjustedVolume    change  \\\n",
              "0  69.9727  70.2061  68.8967  69757247           9965321 -0.774858   \n",
              "1  68.7063  69.5954  68.6104  72364950          10337850  0.302061   \n",
              "2  69.5245  69.5488  68.4239  58247350           8321050 -0.721010   \n",
              "3  68.7667  68.9492  67.7147  69131286           9875898 -0.618575   \n",
              "4  67.9170  69.4457  67.7738  75557321          10793903  1.355300   \n",
              "\n",
              "   changePercent     vwap  changeOverTime  \n",
              "0         -1.111  69.4256        0.000000  \n",
              "1          0.438  69.1567        0.004378  \n",
              "2         -1.041  68.9153       -0.006074  \n",
              "3         -0.902  68.1373       -0.015040  \n",
              "4          1.995  68.8615        0.004607  "
            ],
            "text/html": [
              "\n",
              "  <div id=\"df-7bce6468-69b6-48a9-bdbe-3505a44457c7\">\n",
              "    <div class=\"colab-df-container\">\n",
              "      <div>\n",
              "<style scoped>\n",
              "    .dataframe tbody tr th:only-of-type {\n",
              "        vertical-align: middle;\n",
              "    }\n",
              "\n",
              "    .dataframe tbody tr th {\n",
              "        vertical-align: top;\n",
              "    }\n",
              "\n",
              "    .dataframe thead th {\n",
              "        text-align: right;\n",
              "    }\n",
              "</style>\n",
              "<table border=\"1\" class=\"dataframe\">\n",
              "  <thead>\n",
              "    <tr style=\"text-align: right;\">\n",
              "      <th></th>\n",
              "      <th>open</th>\n",
              "      <th>high</th>\n",
              "      <th>low</th>\n",
              "      <th>volume</th>\n",
              "      <th>unadjustedVolume</th>\n",
              "      <th>change</th>\n",
              "      <th>changePercent</th>\n",
              "      <th>vwap</th>\n",
              "      <th>changeOverTime</th>\n",
              "    </tr>\n",
              "  </thead>\n",
              "  <tbody>\n",
              "    <tr>\n",
              "      <th>0</th>\n",
              "      <td>69.9727</td>\n",
              "      <td>70.2061</td>\n",
              "      <td>68.8967</td>\n",
              "      <td>69757247</td>\n",
              "      <td>9965321</td>\n",
              "      <td>-0.774858</td>\n",
              "      <td>-1.111</td>\n",
              "      <td>69.4256</td>\n",
              "      <td>0.000000</td>\n",
              "    </tr>\n",
              "    <tr>\n",
              "      <th>1</th>\n",
              "      <td>68.7063</td>\n",
              "      <td>69.5954</td>\n",
              "      <td>68.6104</td>\n",
              "      <td>72364950</td>\n",
              "      <td>10337850</td>\n",
              "      <td>0.302061</td>\n",
              "      <td>0.438</td>\n",
              "      <td>69.1567</td>\n",
              "      <td>0.004378</td>\n",
              "    </tr>\n",
              "    <tr>\n",
              "      <th>2</th>\n",
              "      <td>69.5245</td>\n",
              "      <td>69.5488</td>\n",
              "      <td>68.4239</td>\n",
              "      <td>58247350</td>\n",
              "      <td>8321050</td>\n",
              "      <td>-0.721010</td>\n",
              "      <td>-1.041</td>\n",
              "      <td>68.9153</td>\n",
              "      <td>-0.006074</td>\n",
              "    </tr>\n",
              "    <tr>\n",
              "      <th>3</th>\n",
              "      <td>68.7667</td>\n",
              "      <td>68.9492</td>\n",
              "      <td>67.7147</td>\n",
              "      <td>69131286</td>\n",
              "      <td>9875898</td>\n",
              "      <td>-0.618575</td>\n",
              "      <td>-0.902</td>\n",
              "      <td>68.1373</td>\n",
              "      <td>-0.015040</td>\n",
              "    </tr>\n",
              "    <tr>\n",
              "      <th>4</th>\n",
              "      <td>67.9170</td>\n",
              "      <td>69.4457</td>\n",
              "      <td>67.7738</td>\n",
              "      <td>75557321</td>\n",
              "      <td>10793903</td>\n",
              "      <td>1.355300</td>\n",
              "      <td>1.995</td>\n",
              "      <td>68.8615</td>\n",
              "      <td>0.004607</td>\n",
              "    </tr>\n",
              "  </tbody>\n",
              "</table>\n",
              "</div>\n",
              "      <button class=\"colab-df-convert\" onclick=\"convertToInteractive('df-7bce6468-69b6-48a9-bdbe-3505a44457c7')\"\n",
              "              title=\"Convert this dataframe to an interactive table.\"\n",
              "              style=\"display:none;\">\n",
              "        \n",
              "  <svg xmlns=\"http://www.w3.org/2000/svg\" height=\"24px\"viewBox=\"0 0 24 24\"\n",
              "       width=\"24px\">\n",
              "    <path d=\"M0 0h24v24H0V0z\" fill=\"none\"/>\n",
              "    <path d=\"M18.56 5.44l.94 2.06.94-2.06 2.06-.94-2.06-.94-.94-2.06-.94 2.06-2.06.94zm-11 1L8.5 8.5l.94-2.06 2.06-.94-2.06-.94L8.5 2.5l-.94 2.06-2.06.94zm10 10l.94 2.06.94-2.06 2.06-.94-2.06-.94-.94-2.06-.94 2.06-2.06.94z\"/><path d=\"M17.41 7.96l-1.37-1.37c-.4-.4-.92-.59-1.43-.59-.52 0-1.04.2-1.43.59L10.3 9.45l-7.72 7.72c-.78.78-.78 2.05 0 2.83L4 21.41c.39.39.9.59 1.41.59.51 0 1.02-.2 1.41-.59l7.78-7.78 2.81-2.81c.8-.78.8-2.07 0-2.86zM5.41 20L4 18.59l7.72-7.72 1.47 1.35L5.41 20z\"/>\n",
              "  </svg>\n",
              "      </button>\n",
              "      \n",
              "  <style>\n",
              "    .colab-df-container {\n",
              "      display:flex;\n",
              "      flex-wrap:wrap;\n",
              "      gap: 12px;\n",
              "    }\n",
              "\n",
              "    .colab-df-convert {\n",
              "      background-color: #E8F0FE;\n",
              "      border: none;\n",
              "      border-radius: 50%;\n",
              "      cursor: pointer;\n",
              "      display: none;\n",
              "      fill: #1967D2;\n",
              "      height: 32px;\n",
              "      padding: 0 0 0 0;\n",
              "      width: 32px;\n",
              "    }\n",
              "\n",
              "    .colab-df-convert:hover {\n",
              "      background-color: #E2EBFA;\n",
              "      box-shadow: 0px 1px 2px rgba(60, 64, 67, 0.3), 0px 1px 3px 1px rgba(60, 64, 67, 0.15);\n",
              "      fill: #174EA6;\n",
              "    }\n",
              "\n",
              "    [theme=dark] .colab-df-convert {\n",
              "      background-color: #3B4455;\n",
              "      fill: #D2E3FC;\n",
              "    }\n",
              "\n",
              "    [theme=dark] .colab-df-convert:hover {\n",
              "      background-color: #434B5C;\n",
              "      box-shadow: 0px 1px 3px 1px rgba(0, 0, 0, 0.15);\n",
              "      filter: drop-shadow(0px 1px 2px rgba(0, 0, 0, 0.3));\n",
              "      fill: #FFFFFF;\n",
              "    }\n",
              "  </style>\n",
              "\n",
              "      <script>\n",
              "        const buttonEl =\n",
              "          document.querySelector('#df-7bce6468-69b6-48a9-bdbe-3505a44457c7 button.colab-df-convert');\n",
              "        buttonEl.style.display =\n",
              "          google.colab.kernel.accessAllowed ? 'block' : 'none';\n",
              "\n",
              "        async function convertToInteractive(key) {\n",
              "          const element = document.querySelector('#df-7bce6468-69b6-48a9-bdbe-3505a44457c7');\n",
              "          const dataTable =\n",
              "            await google.colab.kernel.invokeFunction('convertToInteractive',\n",
              "                                                     [key], {});\n",
              "          if (!dataTable) return;\n",
              "\n",
              "          const docLinkHtml = 'Like what you see? Visit the ' +\n",
              "            '<a target=\"_blank\" href=https://colab.research.google.com/notebooks/data_table.ipynb>data table notebook</a>'\n",
              "            + ' to learn more about interactive tables.';\n",
              "          element.innerHTML = '';\n",
              "          dataTable['output_type'] = 'display_data';\n",
              "          await google.colab.output.renderOutput(dataTable, element);\n",
              "          const docLink = document.createElement('div');\n",
              "          docLink.innerHTML = docLinkHtml;\n",
              "          element.appendChild(docLink);\n",
              "        }\n",
              "      </script>\n",
              "    </div>\n",
              "  </div>\n",
              "  "
            ]
          },
          "metadata": {},
          "execution_count": 85
        }
      ]
    },
    {
      "cell_type": "code",
      "source": [
        "test_points.shape"
      ],
      "metadata": {
        "colab": {
          "base_uri": "https://localhost:8080/"
        },
        "id": "EnSt-5rTYy9R",
        "outputId": "929a493b-3125-415e-963f-50d61e4f9bf7"
      },
      "execution_count": 86,
      "outputs": [
        {
          "output_type": "execute_result",
          "data": {
            "text/plain": [
              "(1258, 9)"
            ]
          },
          "metadata": {},
          "execution_count": 86
        }
      ]
    },
    {
      "cell_type": "code",
      "source": [
        "list(test_points)==list(training_points)"
      ],
      "metadata": {
        "colab": {
          "base_uri": "https://localhost:8080/"
        },
        "id": "tIVNgbaQY3f0",
        "outputId": "9fe65da5-a1c5-4791-b7cc-c8f1fb0b3173"
      },
      "execution_count": 87,
      "outputs": [
        {
          "output_type": "execute_result",
          "data": {
            "text/plain": [
              "False"
            ]
          },
          "metadata": {},
          "execution_count": 87
        }
      ]
    },
    {
      "cell_type": "code",
      "source": [
        "test_predictions_linear = linear_regression_model.predict(test_points)"
      ],
      "metadata": {
        "id": "eZoUZmEAZyZC"
      },
      "execution_count": 88,
      "outputs": []
    },
    {
      "cell_type": "code",
      "source": [
        "test_predictions_random_forest = random_forest_model.predict(test_points)"
      ],
      "metadata": {
        "id": "B0E-1a3VZ1Qz"
      },
      "execution_count": 89,
      "outputs": []
    },
    {
      "cell_type": "code",
      "source": [
        "plt.figure(figsize=(7, 7))\n",
        "plt.scatter(test_values, test_predictions_linear) # рисуем точки, соответствущие парам настоящее значение - прогноз\n",
        "plt.plot([0, max(test_values)], [0, max(test_predictions_linear)])  # рисуем прямую, на которой предсказания и настоящие значения совпадают\n",
        "plt.xlabel('Настоящее значение', fontsize=20)\n",
        "plt.ylabel('Предсказанное значение', fontsize=20);"
      ],
      "metadata": {
        "colab": {
          "base_uri": "https://localhost:8080/",
          "height": 462
        },
        "id": "XTgsoC6aZ6jt",
        "outputId": "127f7621-fb1d-4e86-97f3-cbd3895c38d7"
      },
      "execution_count": 90,
      "outputs": [
        {
          "output_type": "display_data",
          "data": {
            "text/plain": [
              "<Figure size 504x504 with 1 Axes>"
            ],
            "image/png": "[encoded data removed]"
          },
          "metadata": {
            "needs_background": "light"
          }
        }
      ]
    },
    {
      "cell_type": "code",
      "source": [
        "plt.figure(figsize=(7, 7))\n",
        "plt.scatter(test_values, test_predictions_random_forest) # рисуем точки, соответствущие парам настоящее значение - прогноз\n",
        "plt.plot([0, max(test_values)], [0, max(test_predictions_random_forest)]) # рисуем прямую, на которой предсказания и настоящие значения совпадают\n",
        "plt.xlabel('Настоящее значение', fontsize=20)\n",
        "plt.ylabel('Предсказанное значение', fontsize=20);"
      ],
      "metadata": {
        "colab": {
          "base_uri": "https://localhost:8080/",
          "height": 451
        },
        "id": "zhMG62Q6aEIY",
        "outputId": "8f0a8309-390b-453f-ee58-3aa063e10df9"
      },
      "execution_count": 91,
      "outputs": [
        {
          "output_type": "display_data",
          "data": {
            "text/plain": [
              "<Figure size 504x504 with 1 Axes>"
            ],
            "image/png": "[encoded data removed]"
          },
          "metadata": {
            "needs_background": "light"
          }
        }
      ]
    },
    {
      "cell_type": "code",
      "source": [
        "from sklearn.metrics import mean_absolute_error, mean_squared_error, r2_score"
      ],
      "metadata": {
        "id": "Rgl2Dk0waMqH"
      },
      "execution_count": 92,
      "outputs": []
    },
    {
      "cell_type": "code",
      "source": [
        "mean_absolute_error_linear_model = mean_absolute_error(test_values, test_predictions_linear)\n",
        "mean_squared_error_linear_model = mean_squared_error(test_values, test_predictions_linear)\n",
        "r2_score_linear_model = r2_score(test_values, test_predictions_linear)"
      ],
      "metadata": {
        "id": "m16ayJbuaO1o"
      },
      "execution_count": 93,
      "outputs": []
    },
    {
      "cell_type": "code",
      "source": [
        "mean_absolute_error_random_forest_model = mean_absolute_error(test_values, test_predictions_random_forest)\n",
        "mean_squared_error_random_forest_model = mean_squared_error(test_values, test_predictions_random_forest)\n",
        "r2_score_random_forest_model = r2_score(test_values, test_predictions_random_forest)"
      ],
      "metadata": {
        "id": "eJ55R5NnaRZ1"
      },
      "execution_count": 94,
      "outputs": []
    },
    {
      "cell_type": "code",
      "source": [
        "print(\"MAE: {0:7.2f}, RMSE: {1:7.2f}, R2: {2:7.2f} for linear model\".format(\n",
        "        mean_absolute_error(test_values, test_predictions_linear), \n",
        "        mean_squared_error(test_values, test_predictions_linear)**0.5, r2_score_linear_model))\n",
        "\n",
        "print(\"MAE: {0:7.2f}, RMSE: {1:7.2f},  R2: {2:7.2f} for random forest model\".format(\n",
        "       mean_absolute_error(test_values, test_predictions_random_forest), \n",
        "       mean_squared_error(test_values, test_predictions_random_forest)**0.5, r2_score_random_forest_model))"
      ],
      "metadata": {
        "colab": {
          "base_uri": "https://localhost:8080/"
        },
        "id": "c7tyC6R6aTpw",
        "outputId": "bb35e5ad-1073-4c8b-8ca8-e21cb19d8245"
      },
      "execution_count": 95,
      "outputs": [
        {
          "output_type": "stream",
          "name": "stdout",
          "text": [
            "MAE: 4705224.14, RMSE: 5289414.60, R2: -19164216772.75 for linear model\n",
            "MAE:   10.47, RMSE:   11.89,  R2:    0.90 for random forest model\n"
          ]
        }
      ]
    }
  ]
}